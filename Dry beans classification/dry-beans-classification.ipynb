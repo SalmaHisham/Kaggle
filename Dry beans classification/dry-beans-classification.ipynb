{
 "cells": [
  {
   "cell_type": "markdown",
   "id": "6e0ed5e7",
   "metadata": {
    "papermill": {
     "duration": 0.01993,
     "end_time": "2022-05-30T19:05:12.263106",
     "exception": false,
     "start_time": "2022-05-30T19:05:12.243176",
     "status": "completed"
    },
    "tags": []
   },
   "source": [
    "# Dataset Information\n",
    "\n",
    "Given a set of features extracted from the shape of the beans in images and  it's required to predict the class of a bean given some features about its shape.\n",
    "There are 7 bean types in this dataset.\n",
    "\n",
    "**Data fields**\n",
    "- ID - an ID for this instance\n",
    "- Area - (A), The area of a bean zone and the number of pixels within its boundaries.\n",
    "- Perimeter - (P), Bean circumference is defined as the length of its border.\n",
    "- MajorAxisLength - (L), The distance between the ends of the longest line that can be drawn from a bean.\n",
    "- MinorAxisLength - (l), The longest line that can be drawn from the bean while standing perpendicular to the main axis.\n",
    "- AspectRatio - (K), Defines the relationship between L and l.\n",
    "- Eccentricity - (Ec), Eccentricity of the ellipse having the same moments as the region.\n",
    "- ConvexArea - (C), Number of pixels in the smallest convex polygon that can contain the area of a bean seed.\n",
    "- EquivDiameter - (Ed), The diameter of a circle having the same area as a bean seed area.\n",
    "- Extent - (Ex), The ratio of the pixels in the bounding box to the bean area.\n",
    "- Solidity - (S), Also known as convexity. The ratio of the pixels in the convex shell to those found in beans.\n",
    "- Roundness - (R), Calculated with the following formula: (4piA)/(P^2)\n",
    "- Compactness - (CO), Measures the roundness of an object: Ed/L\n",
    "- ShapeFactor1 - (SF1)\n",
    "- ShapeFactor2 - (SF2)\n",
    "- ShapeFactor3 - (SF3)\n",
    "- ShapeFactor4 - (SF4)\n",
    "- y - the class of the bean. It can be any of BARBUNYA, SIRA, HOROZ, DERMASON, CALI, BOMBAY, and SEKER.\n"
   ]
  },
  {
   "cell_type": "markdown",
   "id": "8c9007f0",
   "metadata": {
    "papermill": {
     "duration": 0.018239,
     "end_time": "2022-05-30T19:05:12.300206",
     "exception": false,
     "start_time": "2022-05-30T19:05:12.281967",
     "status": "completed"
    },
    "tags": []
   },
   "source": [
    "<img src= \"https://www.thespruceeats.com/thmb/eeIti36pfkoNBaipXrTHLjIv5YA=/1888x1416/smart/filters:no_upscale()/DriedBeans-56f6c2c43df78c78418c3b46.jpg\" alt =\"Titanic\" style='width: 800px;height:400px'>"
   ]
  },
  {
   "cell_type": "markdown",
   "id": "1ca984b2",
   "metadata": {
    "papermill": {
     "duration": 0.018401,
     "end_time": "2022-05-30T19:05:12.338023",
     "exception": false,
     "start_time": "2022-05-30T19:05:12.319622",
     "status": "completed"
    },
    "tags": []
   },
   "source": [
    "# `00` Import Libraries"
   ]
  },
  {
   "cell_type": "code",
   "execution_count": 1,
   "id": "0dad2331",
   "metadata": {
    "execution": {
     "iopub.execute_input": "2022-05-30T19:05:12.377613Z",
     "iopub.status.busy": "2022-05-30T19:05:12.376706Z",
     "iopub.status.idle": "2022-05-30T19:05:13.901720Z",
     "shell.execute_reply": "2022-05-30T19:05:13.900731Z"
    },
    "papermill": {
     "duration": 1.547821,
     "end_time": "2022-05-30T19:05:13.904383",
     "exception": false,
     "start_time": "2022-05-30T19:05:12.356562",
     "status": "completed"
    },
    "tags": []
   },
   "outputs": [],
   "source": [
    "import pandas as pd\n",
    "import numpy as np\n",
    "import matplotlib.pyplot as plt\n",
    "import seaborn as sns\n",
    "from sklearn.preprocessing import LabelEncoder, StandardScaler, MinMaxScaler, RobustScaler\n",
    "from sklearn.decomposition import PCA\n",
    "from sklearn.metrics import confusion_matrix, plot_confusion_matrix, classification_report"
   ]
  },
  {
   "cell_type": "markdown",
   "id": "ee62107b",
   "metadata": {
    "papermill": {
     "duration": 0.018069,
     "end_time": "2022-05-30T19:05:13.941487",
     "exception": false,
     "start_time": "2022-05-30T19:05:13.923418",
     "status": "completed"
    },
    "tags": []
   },
   "source": [
    "# `01` Read Data "
   ]
  },
  {
   "cell_type": "code",
   "execution_count": 2,
   "id": "4fb4494e",
   "metadata": {
    "execution": {
     "iopub.execute_input": "2022-05-30T19:05:13.980721Z",
     "iopub.status.busy": "2022-05-30T19:05:13.980324Z",
     "iopub.status.idle": "2022-05-30T19:05:14.096408Z",
     "shell.execute_reply": "2022-05-30T19:05:14.095279Z"
    },
    "papermill": {
     "duration": 0.14108,
     "end_time": "2022-05-30T19:05:14.101102",
     "exception": false,
     "start_time": "2022-05-30T19:05:13.960022",
     "status": "completed"
    },
    "tags": []
   },
   "outputs": [
    {
     "data": {
      "text/html": [
       "<div>\n",
       "<style scoped>\n",
       "    .dataframe tbody tr th:only-of-type {\n",
       "        vertical-align: middle;\n",
       "    }\n",
       "\n",
       "    .dataframe tbody tr th {\n",
       "        vertical-align: top;\n",
       "    }\n",
       "\n",
       "    .dataframe thead th {\n",
       "        text-align: right;\n",
       "    }\n",
       "</style>\n",
       "<table border=\"1\" class=\"dataframe\">\n",
       "  <thead>\n",
       "    <tr style=\"text-align: right;\">\n",
       "      <th></th>\n",
       "      <th>ID</th>\n",
       "      <th>Area</th>\n",
       "      <th>Perimeter</th>\n",
       "      <th>MajorAxisLength</th>\n",
       "      <th>MinorAxisLength</th>\n",
       "      <th>AspectRation</th>\n",
       "      <th>Eccentricity</th>\n",
       "      <th>ConvexArea</th>\n",
       "      <th>EquivDiameter</th>\n",
       "      <th>Extent</th>\n",
       "      <th>Solidity</th>\n",
       "      <th>roundness</th>\n",
       "      <th>Compactness</th>\n",
       "      <th>ShapeFactor1</th>\n",
       "      <th>ShapeFactor2</th>\n",
       "      <th>ShapeFactor3</th>\n",
       "      <th>ShapeFactor4</th>\n",
       "      <th>y</th>\n",
       "    </tr>\n",
       "  </thead>\n",
       "  <tbody>\n",
       "    <tr>\n",
       "      <th>0</th>\n",
       "      <td>0</td>\n",
       "      <td>58238</td>\n",
       "      <td>971.303</td>\n",
       "      <td>397.202654</td>\n",
       "      <td>186.945510</td>\n",
       "      <td>2.124697</td>\n",
       "      <td>0.882317</td>\n",
       "      <td>58977</td>\n",
       "      <td>272.306674</td>\n",
       "      <td>0.604756</td>\n",
       "      <td>0.987470</td>\n",
       "      <td>0.775723</td>\n",
       "      <td>0.685561</td>\n",
       "      <td>0.006820</td>\n",
       "      <td>0.000929</td>\n",
       "      <td>0.469994</td>\n",
       "      <td>0.998595</td>\n",
       "      <td>HOROZ</td>\n",
       "    </tr>\n",
       "    <tr>\n",
       "      <th>1</th>\n",
       "      <td>1</td>\n",
       "      <td>44515</td>\n",
       "      <td>757.601</td>\n",
       "      <td>265.590470</td>\n",
       "      <td>213.967453</td>\n",
       "      <td>1.241266</td>\n",
       "      <td>0.592420</td>\n",
       "      <td>44780</td>\n",
       "      <td>238.071960</td>\n",
       "      <td>0.771745</td>\n",
       "      <td>0.994082</td>\n",
       "      <td>0.974620</td>\n",
       "      <td>0.896387</td>\n",
       "      <td>0.005966</td>\n",
       "      <td>0.002376</td>\n",
       "      <td>0.803510</td>\n",
       "      <td>0.997370</td>\n",
       "      <td>SEKER</td>\n",
       "    </tr>\n",
       "    <tr>\n",
       "      <th>2</th>\n",
       "      <td>2</td>\n",
       "      <td>31662</td>\n",
       "      <td>653.783</td>\n",
       "      <td>239.902428</td>\n",
       "      <td>168.421505</td>\n",
       "      <td>1.424417</td>\n",
       "      <td>0.712136</td>\n",
       "      <td>32034</td>\n",
       "      <td>200.781748</td>\n",
       "      <td>0.801407</td>\n",
       "      <td>0.988387</td>\n",
       "      <td>0.930853</td>\n",
       "      <td>0.836931</td>\n",
       "      <td>0.007577</td>\n",
       "      <td>0.002293</td>\n",
       "      <td>0.700453</td>\n",
       "      <td>0.997737</td>\n",
       "      <td>DERMASON</td>\n",
       "    </tr>\n",
       "    <tr>\n",
       "      <th>3</th>\n",
       "      <td>3</td>\n",
       "      <td>38778</td>\n",
       "      <td>734.020</td>\n",
       "      <td>268.446281</td>\n",
       "      <td>184.061923</td>\n",
       "      <td>1.458456</td>\n",
       "      <td>0.727925</td>\n",
       "      <td>39208</td>\n",
       "      <td>222.201897</td>\n",
       "      <td>0.766137</td>\n",
       "      <td>0.989033</td>\n",
       "      <td>0.904439</td>\n",
       "      <td>0.827733</td>\n",
       "      <td>0.006923</td>\n",
       "      <td>0.002005</td>\n",
       "      <td>0.685142</td>\n",
       "      <td>0.999250</td>\n",
       "      <td>DERMASON</td>\n",
       "    </tr>\n",
       "    <tr>\n",
       "      <th>4</th>\n",
       "      <td>4</td>\n",
       "      <td>42530</td>\n",
       "      <td>775.403</td>\n",
       "      <td>281.212824</td>\n",
       "      <td>193.236878</td>\n",
       "      <td>1.455275</td>\n",
       "      <td>0.726511</td>\n",
       "      <td>43028</td>\n",
       "      <td>232.703412</td>\n",
       "      <td>0.729816</td>\n",
       "      <td>0.988426</td>\n",
       "      <td>0.888895</td>\n",
       "      <td>0.827499</td>\n",
       "      <td>0.006612</td>\n",
       "      <td>0.001912</td>\n",
       "      <td>0.684755</td>\n",
       "      <td>0.996507</td>\n",
       "      <td>SIRA</td>\n",
       "    </tr>\n",
       "  </tbody>\n",
       "</table>\n",
       "</div>"
      ],
      "text/plain": [
       "   ID   Area  Perimeter  MajorAxisLength  MinorAxisLength  AspectRation  \\\n",
       "0   0  58238    971.303       397.202654       186.945510      2.124697   \n",
       "1   1  44515    757.601       265.590470       213.967453      1.241266   \n",
       "2   2  31662    653.783       239.902428       168.421505      1.424417   \n",
       "3   3  38778    734.020       268.446281       184.061923      1.458456   \n",
       "4   4  42530    775.403       281.212824       193.236878      1.455275   \n",
       "\n",
       "   Eccentricity  ConvexArea  EquivDiameter    Extent  Solidity  roundness  \\\n",
       "0      0.882317       58977     272.306674  0.604756  0.987470   0.775723   \n",
       "1      0.592420       44780     238.071960  0.771745  0.994082   0.974620   \n",
       "2      0.712136       32034     200.781748  0.801407  0.988387   0.930853   \n",
       "3      0.727925       39208     222.201897  0.766137  0.989033   0.904439   \n",
       "4      0.726511       43028     232.703412  0.729816  0.988426   0.888895   \n",
       "\n",
       "   Compactness  ShapeFactor1  ShapeFactor2  ShapeFactor3  ShapeFactor4  \\\n",
       "0     0.685561      0.006820      0.000929      0.469994      0.998595   \n",
       "1     0.896387      0.005966      0.002376      0.803510      0.997370   \n",
       "2     0.836931      0.007577      0.002293      0.700453      0.997737   \n",
       "3     0.827733      0.006923      0.002005      0.685142      0.999250   \n",
       "4     0.827499      0.006612      0.001912      0.684755      0.996507   \n",
       "\n",
       "          y  \n",
       "0     HOROZ  \n",
       "1     SEKER  \n",
       "2  DERMASON  \n",
       "3  DERMASON  \n",
       "4      SIRA  "
      ]
     },
     "execution_count": 2,
     "metadata": {},
     "output_type": "execute_result"
    }
   ],
   "source": [
    "df = pd.read_csv('../input/dry-beans-classification-iti-ai-pro-intake02/train.csv')\n",
    "df.head()\n"
   ]
  },
  {
   "cell_type": "markdown",
   "id": "4dde33a9",
   "metadata": {
    "papermill": {
     "duration": 0.018815,
     "end_time": "2022-05-30T19:05:14.140525",
     "exception": false,
     "start_time": "2022-05-30T19:05:14.121710",
     "status": "completed"
    },
    "tags": []
   },
   "source": [
    "# `02` EDA"
   ]
  },
  {
   "cell_type": "markdown",
   "id": "21549d35",
   "metadata": {
    "papermill": {
     "duration": 0.018817,
     "end_time": "2022-05-30T19:05:14.178447",
     "exception": false,
     "start_time": "2022-05-30T19:05:14.159630",
     "status": "completed"
    },
    "tags": []
   },
   "source": [
    "### `2.0` Explore Data"
   ]
  },
  {
   "cell_type": "code",
   "execution_count": 3,
   "id": "7e193bb0",
   "metadata": {
    "execution": {
     "iopub.execute_input": "2022-05-30T19:05:14.218897Z",
     "iopub.status.busy": "2022-05-30T19:05:14.218192Z",
     "iopub.status.idle": "2022-05-30T19:05:14.246938Z",
     "shell.execute_reply": "2022-05-30T19:05:14.246076Z"
    },
    "papermill": {
     "duration": 0.052203,
     "end_time": "2022-05-30T19:05:14.249764",
     "exception": false,
     "start_time": "2022-05-30T19:05:14.197561",
     "status": "completed"
    },
    "tags": []
   },
   "outputs": [
    {
     "name": "stdout",
     "output_type": "stream",
     "text": [
      "<class 'pandas.core.frame.DataFrame'>\n",
      "RangeIndex: 10834 entries, 0 to 10833\n",
      "Data columns (total 18 columns):\n",
      " #   Column           Non-Null Count  Dtype  \n",
      "---  ------           --------------  -----  \n",
      " 0   ID               10834 non-null  int64  \n",
      " 1   Area             10834 non-null  int64  \n",
      " 2   Perimeter        10834 non-null  float64\n",
      " 3   MajorAxisLength  10834 non-null  float64\n",
      " 4   MinorAxisLength  10834 non-null  float64\n",
      " 5   AspectRation     10834 non-null  float64\n",
      " 6   Eccentricity     10834 non-null  float64\n",
      " 7   ConvexArea       10834 non-null  int64  \n",
      " 8   EquivDiameter    10834 non-null  float64\n",
      " 9   Extent           10834 non-null  float64\n",
      " 10  Solidity         10834 non-null  float64\n",
      " 11  roundness        10834 non-null  float64\n",
      " 12  Compactness      10834 non-null  float64\n",
      " 13  ShapeFactor1     10834 non-null  float64\n",
      " 14  ShapeFactor2     10834 non-null  float64\n",
      " 15  ShapeFactor3     10834 non-null  float64\n",
      " 16  ShapeFactor4     10834 non-null  float64\n",
      " 17  y                10834 non-null  object \n",
      "dtypes: float64(14), int64(3), object(1)\n",
      "memory usage: 1.5+ MB\n"
     ]
    }
   ],
   "source": [
    "df.info()"
   ]
  },
  {
   "cell_type": "code",
   "execution_count": 4,
   "id": "c02008c2",
   "metadata": {
    "execution": {
     "iopub.execute_input": "2022-05-30T19:05:14.292254Z",
     "iopub.status.busy": "2022-05-30T19:05:14.291874Z",
     "iopub.status.idle": "2022-05-30T19:05:14.363998Z",
     "shell.execute_reply": "2022-05-30T19:05:14.363008Z"
    },
    "papermill": {
     "duration": 0.094511,
     "end_time": "2022-05-30T19:05:14.365997",
     "exception": false,
     "start_time": "2022-05-30T19:05:14.271486",
     "status": "completed"
    },
    "tags": []
   },
   "outputs": [
    {
     "data": {
      "text/html": [
       "<div>\n",
       "<style scoped>\n",
       "    .dataframe tbody tr th:only-of-type {\n",
       "        vertical-align: middle;\n",
       "    }\n",
       "\n",
       "    .dataframe tbody tr th {\n",
       "        vertical-align: top;\n",
       "    }\n",
       "\n",
       "    .dataframe thead th {\n",
       "        text-align: right;\n",
       "    }\n",
       "</style>\n",
       "<table border=\"1\" class=\"dataframe\">\n",
       "  <thead>\n",
       "    <tr style=\"text-align: right;\">\n",
       "      <th></th>\n",
       "      <th>ID</th>\n",
       "      <th>Area</th>\n",
       "      <th>Perimeter</th>\n",
       "      <th>MajorAxisLength</th>\n",
       "      <th>MinorAxisLength</th>\n",
       "      <th>AspectRation</th>\n",
       "      <th>Eccentricity</th>\n",
       "      <th>ConvexArea</th>\n",
       "      <th>EquivDiameter</th>\n",
       "      <th>Extent</th>\n",
       "      <th>Solidity</th>\n",
       "      <th>roundness</th>\n",
       "      <th>Compactness</th>\n",
       "      <th>ShapeFactor1</th>\n",
       "      <th>ShapeFactor2</th>\n",
       "      <th>ShapeFactor3</th>\n",
       "      <th>ShapeFactor4</th>\n",
       "    </tr>\n",
       "  </thead>\n",
       "  <tbody>\n",
       "    <tr>\n",
       "      <th>count</th>\n",
       "      <td>10834.000000</td>\n",
       "      <td>10834.000000</td>\n",
       "      <td>10834.000000</td>\n",
       "      <td>10834.000000</td>\n",
       "      <td>10834.000000</td>\n",
       "      <td>10834.000000</td>\n",
       "      <td>10834.000000</td>\n",
       "      <td>10834.000000</td>\n",
       "      <td>10834.000000</td>\n",
       "      <td>10834.000000</td>\n",
       "      <td>10834.000000</td>\n",
       "      <td>10834.000000</td>\n",
       "      <td>10834.000000</td>\n",
       "      <td>10834.000000</td>\n",
       "      <td>10834.000000</td>\n",
       "      <td>10834.000000</td>\n",
       "      <td>10834.000000</td>\n",
       "    </tr>\n",
       "    <tr>\n",
       "      <th>mean</th>\n",
       "      <td>5416.500000</td>\n",
       "      <td>53095.675189</td>\n",
       "      <td>855.274892</td>\n",
       "      <td>320.036169</td>\n",
       "      <td>202.410342</td>\n",
       "      <td>1.581294</td>\n",
       "      <td>0.750588</td>\n",
       "      <td>53816.205926</td>\n",
       "      <td>253.123583</td>\n",
       "      <td>0.749937</td>\n",
       "      <td>0.987152</td>\n",
       "      <td>0.873647</td>\n",
       "      <td>0.800244</td>\n",
       "      <td>0.006559</td>\n",
       "      <td>0.001718</td>\n",
       "      <td>0.644139</td>\n",
       "      <td>0.995083</td>\n",
       "    </tr>\n",
       "    <tr>\n",
       "      <th>std</th>\n",
       "      <td>3127.650742</td>\n",
       "      <td>29542.542580</td>\n",
       "      <td>214.991122</td>\n",
       "      <td>85.961630</td>\n",
       "      <td>45.113965</td>\n",
       "      <td>0.244314</td>\n",
       "      <td>0.091481</td>\n",
       "      <td>29999.710739</td>\n",
       "      <td>59.433080</td>\n",
       "      <td>0.048949</td>\n",
       "      <td>0.004626</td>\n",
       "      <td>0.059344</td>\n",
       "      <td>0.061228</td>\n",
       "      <td>0.001127</td>\n",
       "      <td>0.000593</td>\n",
       "      <td>0.098268</td>\n",
       "      <td>0.004306</td>\n",
       "    </tr>\n",
       "    <tr>\n",
       "      <th>min</th>\n",
       "      <td>0.000000</td>\n",
       "      <td>20420.000000</td>\n",
       "      <td>524.932000</td>\n",
       "      <td>183.601165</td>\n",
       "      <td>129.576207</td>\n",
       "      <td>1.024868</td>\n",
       "      <td>0.218951</td>\n",
       "      <td>20684.000000</td>\n",
       "      <td>161.243764</td>\n",
       "      <td>0.555315</td>\n",
       "      <td>0.919246</td>\n",
       "      <td>0.489618</td>\n",
       "      <td>0.645368</td>\n",
       "      <td>0.002856</td>\n",
       "      <td>0.000564</td>\n",
       "      <td>0.416499</td>\n",
       "      <td>0.947687</td>\n",
       "    </tr>\n",
       "    <tr>\n",
       "      <th>25%</th>\n",
       "      <td>2708.250000</td>\n",
       "      <td>36343.500000</td>\n",
       "      <td>703.601250</td>\n",
       "      <td>253.501071</td>\n",
       "      <td>175.927024</td>\n",
       "      <td>1.432985</td>\n",
       "      <td>0.716250</td>\n",
       "      <td>36731.250000</td>\n",
       "      <td>215.113880</td>\n",
       "      <td>0.718778</td>\n",
       "      <td>0.985627</td>\n",
       "      <td>0.833479</td>\n",
       "      <td>0.763378</td>\n",
       "      <td>0.005888</td>\n",
       "      <td>0.001161</td>\n",
       "      <td>0.582747</td>\n",
       "      <td>0.993690</td>\n",
       "    </tr>\n",
       "    <tr>\n",
       "      <th>50%</th>\n",
       "      <td>5416.500000</td>\n",
       "      <td>44645.000000</td>\n",
       "      <td>793.739500</td>\n",
       "      <td>296.377365</td>\n",
       "      <td>192.525040</td>\n",
       "      <td>1.550761</td>\n",
       "      <td>0.764314</td>\n",
       "      <td>45148.000000</td>\n",
       "      <td>238.419335</td>\n",
       "      <td>0.760141</td>\n",
       "      <td>0.988290</td>\n",
       "      <td>0.883472</td>\n",
       "      <td>0.801428</td>\n",
       "      <td>0.006643</td>\n",
       "      <td>0.001700</td>\n",
       "      <td>0.642287</td>\n",
       "      <td>0.996397</td>\n",
       "    </tr>\n",
       "    <tr>\n",
       "      <th>75%</th>\n",
       "      <td>8124.750000</td>\n",
       "      <td>61295.000000</td>\n",
       "      <td>975.517500</td>\n",
       "      <td>376.068399</td>\n",
       "      <td>217.315195</td>\n",
       "      <td>1.703029</td>\n",
       "      <td>0.809450</td>\n",
       "      <td>62251.500000</td>\n",
       "      <td>279.362162</td>\n",
       "      <td>0.786871</td>\n",
       "      <td>0.990014</td>\n",
       "      <td>0.916883</td>\n",
       "      <td>0.834068</td>\n",
       "      <td>0.007268</td>\n",
       "      <td>0.002169</td>\n",
       "      <td>0.695670</td>\n",
       "      <td>0.997895</td>\n",
       "    </tr>\n",
       "    <tr>\n",
       "      <th>max</th>\n",
       "      <td>10833.000000</td>\n",
       "      <td>254616.000000</td>\n",
       "      <td>1985.370000</td>\n",
       "      <td>738.860153</td>\n",
       "      <td>450.926187</td>\n",
       "      <td>2.388873</td>\n",
       "      <td>0.908167</td>\n",
       "      <td>263261.000000</td>\n",
       "      <td>569.374358</td>\n",
       "      <td>0.866195</td>\n",
       "      <td>0.994677</td>\n",
       "      <td>0.990685</td>\n",
       "      <td>0.987303</td>\n",
       "      <td>0.009897</td>\n",
       "      <td>0.003665</td>\n",
       "      <td>0.974767</td>\n",
       "      <td>0.999733</td>\n",
       "    </tr>\n",
       "  </tbody>\n",
       "</table>\n",
       "</div>"
      ],
      "text/plain": [
       "                 ID           Area     Perimeter  MajorAxisLength  \\\n",
       "count  10834.000000   10834.000000  10834.000000     10834.000000   \n",
       "mean    5416.500000   53095.675189    855.274892       320.036169   \n",
       "std     3127.650742   29542.542580    214.991122        85.961630   \n",
       "min        0.000000   20420.000000    524.932000       183.601165   \n",
       "25%     2708.250000   36343.500000    703.601250       253.501071   \n",
       "50%     5416.500000   44645.000000    793.739500       296.377365   \n",
       "75%     8124.750000   61295.000000    975.517500       376.068399   \n",
       "max    10833.000000  254616.000000   1985.370000       738.860153   \n",
       "\n",
       "       MinorAxisLength  AspectRation  Eccentricity     ConvexArea  \\\n",
       "count     10834.000000  10834.000000  10834.000000   10834.000000   \n",
       "mean        202.410342      1.581294      0.750588   53816.205926   \n",
       "std          45.113965      0.244314      0.091481   29999.710739   \n",
       "min         129.576207      1.024868      0.218951   20684.000000   \n",
       "25%         175.927024      1.432985      0.716250   36731.250000   \n",
       "50%         192.525040      1.550761      0.764314   45148.000000   \n",
       "75%         217.315195      1.703029      0.809450   62251.500000   \n",
       "max         450.926187      2.388873      0.908167  263261.000000   \n",
       "\n",
       "       EquivDiameter        Extent      Solidity     roundness   Compactness  \\\n",
       "count   10834.000000  10834.000000  10834.000000  10834.000000  10834.000000   \n",
       "mean      253.123583      0.749937      0.987152      0.873647      0.800244   \n",
       "std        59.433080      0.048949      0.004626      0.059344      0.061228   \n",
       "min       161.243764      0.555315      0.919246      0.489618      0.645368   \n",
       "25%       215.113880      0.718778      0.985627      0.833479      0.763378   \n",
       "50%       238.419335      0.760141      0.988290      0.883472      0.801428   \n",
       "75%       279.362162      0.786871      0.990014      0.916883      0.834068   \n",
       "max       569.374358      0.866195      0.994677      0.990685      0.987303   \n",
       "\n",
       "       ShapeFactor1  ShapeFactor2  ShapeFactor3  ShapeFactor4  \n",
       "count  10834.000000  10834.000000  10834.000000  10834.000000  \n",
       "mean       0.006559      0.001718      0.644139      0.995083  \n",
       "std        0.001127      0.000593      0.098268      0.004306  \n",
       "min        0.002856      0.000564      0.416499      0.947687  \n",
       "25%        0.005888      0.001161      0.582747      0.993690  \n",
       "50%        0.006643      0.001700      0.642287      0.996397  \n",
       "75%        0.007268      0.002169      0.695670      0.997895  \n",
       "max        0.009897      0.003665      0.974767      0.999733  "
      ]
     },
     "execution_count": 4,
     "metadata": {},
     "output_type": "execute_result"
    }
   ],
   "source": [
    "df.describe()"
   ]
  },
  {
   "cell_type": "code",
   "execution_count": 5,
   "id": "052582ec",
   "metadata": {
    "execution": {
     "iopub.execute_input": "2022-05-30T19:05:14.408614Z",
     "iopub.status.busy": "2022-05-30T19:05:14.408182Z",
     "iopub.status.idle": "2022-05-30T19:05:14.415391Z",
     "shell.execute_reply": "2022-05-30T19:05:14.414511Z"
    },
    "papermill": {
     "duration": 0.030785,
     "end_time": "2022-05-30T19:05:14.417552",
     "exception": false,
     "start_time": "2022-05-30T19:05:14.386767",
     "status": "completed"
    },
    "tags": []
   },
   "outputs": [
    {
     "data": {
      "text/plain": [
       "array(['HOROZ', 'SEKER', 'DERMASON', 'SIRA', 'BARBUNYA', 'CALI', 'BOMBAY'],\n",
       "      dtype=object)"
      ]
     },
     "execution_count": 5,
     "metadata": {},
     "output_type": "execute_result"
    }
   ],
   "source": [
    "df.y.unique()"
   ]
  },
  {
   "cell_type": "markdown",
   "id": "cbdb748e",
   "metadata": {
    "papermill": {
     "duration": 0.019533,
     "end_time": "2022-05-30T19:05:14.457164",
     "exception": false,
     "start_time": "2022-05-30T19:05:14.437631",
     "status": "completed"
    },
    "tags": []
   },
   "source": [
    "### `2.1` Check Nulls"
   ]
  },
  {
   "cell_type": "code",
   "execution_count": 6,
   "id": "dbfc1269",
   "metadata": {
    "execution": {
     "iopub.execute_input": "2022-05-30T19:05:14.498689Z",
     "iopub.status.busy": "2022-05-30T19:05:14.498138Z",
     "iopub.status.idle": "2022-05-30T19:05:14.510416Z",
     "shell.execute_reply": "2022-05-30T19:05:14.509408Z"
    },
    "papermill": {
     "duration": 0.035547,
     "end_time": "2022-05-30T19:05:14.512669",
     "exception": false,
     "start_time": "2022-05-30T19:05:14.477122",
     "status": "completed"
    },
    "tags": []
   },
   "outputs": [
    {
     "data": {
      "text/plain": [
       "ID                 0.0\n",
       "Area               0.0\n",
       "Perimeter          0.0\n",
       "MajorAxisLength    0.0\n",
       "MinorAxisLength    0.0\n",
       "AspectRation       0.0\n",
       "Eccentricity       0.0\n",
       "ConvexArea         0.0\n",
       "EquivDiameter      0.0\n",
       "Extent             0.0\n",
       "Solidity           0.0\n",
       "roundness          0.0\n",
       "Compactness        0.0\n",
       "ShapeFactor1       0.0\n",
       "ShapeFactor2       0.0\n",
       "ShapeFactor3       0.0\n",
       "ShapeFactor4       0.0\n",
       "y                  0.0\n",
       "dtype: float64"
      ]
     },
     "execution_count": 6,
     "metadata": {},
     "output_type": "execute_result"
    }
   ],
   "source": [
    "# Check Nulls\n",
    "((df.isnull().sum()/df.shape[0])*100)"
   ]
  },
  {
   "cell_type": "markdown",
   "id": "80fdfa50",
   "metadata": {
    "papermill": {
     "duration": 0.01957,
     "end_time": "2022-05-30T19:05:14.552293",
     "exception": false,
     "start_time": "2022-05-30T19:05:14.532723",
     "status": "completed"
    },
    "tags": []
   },
   "source": [
    "### `2.2` Check Duplicates"
   ]
  },
  {
   "cell_type": "code",
   "execution_count": 7,
   "id": "41e28d42",
   "metadata": {
    "execution": {
     "iopub.execute_input": "2022-05-30T19:05:14.595712Z",
     "iopub.status.busy": "2022-05-30T19:05:14.595305Z",
     "iopub.status.idle": "2022-05-30T19:05:14.616855Z",
     "shell.execute_reply": "2022-05-30T19:05:14.616088Z"
    },
    "papermill": {
     "duration": 0.045387,
     "end_time": "2022-05-30T19:05:14.619326",
     "exception": false,
     "start_time": "2022-05-30T19:05:14.573939",
     "status": "completed"
    },
    "tags": []
   },
   "outputs": [
    {
     "name": "stdout",
     "output_type": "stream",
     "text": [
      "0\n"
     ]
    }
   ],
   "source": [
    "print(df.duplicated().sum())"
   ]
  },
  {
   "cell_type": "markdown",
   "id": "0d25da3a",
   "metadata": {
    "papermill": {
     "duration": 0.021134,
     "end_time": "2022-05-30T19:05:14.661114",
     "exception": false,
     "start_time": "2022-05-30T19:05:14.639980",
     "status": "completed"
    },
    "tags": []
   },
   "source": [
    "### `2.3` Check Imbalance"
   ]
  },
  {
   "cell_type": "code",
   "execution_count": 8,
   "id": "72100e74",
   "metadata": {
    "execution": {
     "iopub.execute_input": "2022-05-30T19:05:14.702981Z",
     "iopub.status.busy": "2022-05-30T19:05:14.702100Z",
     "iopub.status.idle": "2022-05-30T19:05:14.903443Z",
     "shell.execute_reply": "2022-05-30T19:05:14.902276Z"
    },
    "papermill": {
     "duration": 0.22492,
     "end_time": "2022-05-30T19:05:14.906001",
     "exception": false,
     "start_time": "2022-05-30T19:05:14.681081",
     "status": "completed"
    },
    "scrolled": true,
    "tags": []
   },
   "outputs": [
    {
     "name": "stdout",
     "output_type": "stream",
     "text": [
      "DERMASON    2837\n",
      "SIRA        2109\n",
      "SEKER       1621\n",
      "HOROZ       1488\n",
      "CALI        1304\n",
      "BARBUNYA    1057\n",
      "BOMBAY       418\n",
      "Name: y, dtype: int64\n"
     ]
    },
    {
     "data": {
      "image/png": "[encoded data removed]",
      "text/plain": [
       "<Figure size 432x288 with 1 Axes>"
      ]
     },
     "metadata": {
      "needs_background": "light"
     },
     "output_type": "display_data"
    }
   ],
   "source": [
    "print(df['y'].value_counts())\n",
    "_ = sns.countplot(x='y', data=df)"
   ]
  },
  {
   "cell_type": "markdown",
   "id": "8125a278",
   "metadata": {
    "papermill": {
     "duration": 0.019923,
     "end_time": "2022-05-30T19:05:14.946648",
     "exception": false,
     "start_time": "2022-05-30T19:05:14.926725",
     "status": "completed"
    },
    "tags": []
   },
   "source": [
    "### `2.4` Check Normality"
   ]
  },
  {
   "cell_type": "code",
   "execution_count": 9,
   "id": "ecd441c6",
   "metadata": {
    "execution": {
     "iopub.execute_input": "2022-05-30T19:05:14.989119Z",
     "iopub.status.busy": "2022-05-30T19:05:14.988685Z",
     "iopub.status.idle": "2022-05-30T19:05:19.416271Z",
     "shell.execute_reply": "2022-05-30T19:05:19.415480Z"
    },
    "papermill": {
     "duration": 4.453804,
     "end_time": "2022-05-30T19:05:19.420676",
     "exception": false,
     "start_time": "2022-05-30T19:05:14.966872",
     "status": "completed"
    },
    "scrolled": true,
    "tags": []
   },
   "outputs": [
    {
     "data": {
      "image/png": "[encoded data removed]",
      "text/plain": [
       "<Figure size 2160x2160 with 16 Axes>"
      ]
     },
     "metadata": {
      "needs_background": "light"
     },
     "output_type": "display_data"
    }
   ],
   "source": [
    "plt.figure(figsize=(30, 30))\n",
    "for i, col in enumerate(df.iloc[:,1:-1]):\n",
    "    plt.subplot(7, 4, i+1)\n",
    "    sns.histplot(df[col], kde=True, bins=10)"
   ]
  },
  {
   "cell_type": "markdown",
   "id": "03f0ce7f",
   "metadata": {
    "papermill": {
     "duration": 0.022717,
     "end_time": "2022-05-30T19:05:19.468794",
     "exception": false,
     "start_time": "2022-05-30T19:05:19.446077",
     "status": "completed"
    },
    "tags": []
   },
   "source": [
    "### `2.5` Check Outliers"
   ]
  },
  {
   "cell_type": "code",
   "execution_count": 10,
   "id": "20edb96a",
   "metadata": {
    "execution": {
     "iopub.execute_input": "2022-05-30T19:05:19.516568Z",
     "iopub.status.busy": "2022-05-30T19:05:19.515945Z",
     "iopub.status.idle": "2022-05-30T19:05:19.521089Z",
     "shell.execute_reply": "2022-05-30T19:05:19.520465Z"
    },
    "papermill": {
     "duration": 0.030961,
     "end_time": "2022-05-30T19:05:19.522741",
     "exception": false,
     "start_time": "2022-05-30T19:05:19.491780",
     "status": "completed"
    },
    "tags": []
   },
   "outputs": [
    {
     "data": {
      "text/plain": [
       "'ID'"
      ]
     },
     "execution_count": 10,
     "metadata": {},
     "output_type": "execute_result"
    }
   ],
   "source": [
    "df.columns[0]"
   ]
  },
  {
   "cell_type": "code",
   "execution_count": 11,
   "id": "b550fe8d",
   "metadata": {
    "execution": {
     "iopub.execute_input": "2022-05-30T19:05:19.571921Z",
     "iopub.status.busy": "2022-05-30T19:05:19.571207Z",
     "iopub.status.idle": "2022-05-30T19:05:21.221088Z",
     "shell.execute_reply": "2022-05-30T19:05:21.219906Z"
    },
    "papermill": {
     "duration": 1.676723,
     "end_time": "2022-05-30T19:05:21.223139",
     "exception": false,
     "start_time": "2022-05-30T19:05:19.546416",
     "status": "completed"
    },
    "tags": []
   },
   "outputs": [
    {
     "data": {
      "image/png": "[encoded data removed]",
      "text/plain": [
       "<Figure size 1440x2160 with 16 Axes>"
      ]
     },
     "metadata": {
      "needs_background": "light"
     },
     "output_type": "display_data"
    }
   ],
   "source": [
    "plt.figure(figsize=(20, 30))\n",
    "\n",
    "for i, col in enumerate(df.iloc[:,1:-1]):\n",
    "    plt.subplot(8, 3, i+1)\n",
    "    sns.boxplot(x = df[col])\n"
   ]
  },
  {
   "cell_type": "markdown",
   "id": "9691a7fe",
   "metadata": {
    "papermill": {
     "duration": 0.02423,
     "end_time": "2022-05-30T19:05:21.271859",
     "exception": false,
     "start_time": "2022-05-30T19:05:21.247629",
     "status": "completed"
    },
    "tags": []
   },
   "source": [
    "### `2.6` Check Corrolation"
   ]
  },
  {
   "cell_type": "code",
   "execution_count": 12,
   "id": "e49b615e",
   "metadata": {
    "execution": {
     "iopub.execute_input": "2022-05-30T19:05:21.323498Z",
     "iopub.status.busy": "2022-05-30T19:05:21.323013Z",
     "iopub.status.idle": "2022-05-30T19:05:21.794828Z",
     "shell.execute_reply": "2022-05-30T19:05:21.793907Z"
    },
    "papermill": {
     "duration": 0.499864,
     "end_time": "2022-05-30T19:05:21.796904",
     "exception": false,
     "start_time": "2022-05-30T19:05:21.297040",
     "status": "completed"
    },
    "tags": []
   },
   "outputs": [
    {
     "data": {
      "text/plain": [
       "<AxesSubplot:>"
      ]
     },
     "execution_count": 12,
     "metadata": {},
     "output_type": "execute_result"
    },
    {
     "data": {
      "image/png": "[encoded data removed]",
      "text/plain": [
       "<Figure size 1080x720 with 2 Axes>"
      ]
     },
     "metadata": {
      "needs_background": "light"
     },
     "output_type": "display_data"
    }
   ],
   "source": [
    "# making a heatmap to inspect the highly correlated features\n",
    "corr_matrix = df.corr()\n",
    "plt.subplots(figsize = (15, 10))\n",
    "sns.heatmap(corr_matrix, \n",
    "           xticklabels = corr_matrix.columns.values,\n",
    "           yticklabels = corr_matrix.columns.values, \n",
    "           linewidth = 0.1)"
   ]
  },
  {
   "cell_type": "markdown",
   "id": "8372175a",
   "metadata": {
    "papermill": {
     "duration": 0.026286,
     "end_time": "2022-05-30T19:05:21.851460",
     "exception": false,
     "start_time": "2022-05-30T19:05:21.825174",
     "status": "completed"
    },
    "tags": []
   },
   "source": [
    "## **Observations :**"
   ]
  },
  {
   "cell_type": "markdown",
   "id": "8ab6e746",
   "metadata": {
    "papermill": {
     "duration": 0.024942,
     "end_time": "2022-05-30T19:05:21.901855",
     "exception": false,
     "start_time": "2022-05-30T19:05:21.876913",
     "status": "completed"
    },
    "tags": []
   },
   "source": [
    "<b>\n",
    "\n",
    "1) No missing Values\n",
    "\n",
    "2) No Duplicates\n",
    "\n",
    "3) The Data Suffers from Skeweness\n",
    "\n",
    "4) The Data Suffers from Outliers\n",
    "\n",
    "5) There is High correlation between Features\n",
    "\n",
    "6) Data is Imblanaced\n",
    "\n",
    "</b>\n"
   ]
  },
  {
   "cell_type": "markdown",
   "id": "75a5c56b",
   "metadata": {
    "execution": {
     "iopub.execute_input": "2022-05-10T02:09:37.181469Z",
     "iopub.status.busy": "2022-05-10T02:09:37.180947Z",
     "iopub.status.idle": "2022-05-10T02:09:37.19835Z",
     "shell.execute_reply": "2022-05-10T02:09:37.197155Z",
     "shell.execute_reply.started": "2022-05-10T02:09:37.181437Z"
    },
    "papermill": {
     "duration": 0.02529,
     "end_time": "2022-05-30T19:05:21.952639",
     "exception": false,
     "start_time": "2022-05-30T19:05:21.927349",
     "status": "completed"
    },
    "tags": []
   },
   "source": [
    "# `03` Feature Engineering"
   ]
  },
  {
   "cell_type": "markdown",
   "id": "7206ef9d",
   "metadata": {
    "papermill": {
     "duration": 0.025845,
     "end_time": "2022-05-30T19:05:22.004321",
     "exception": false,
     "start_time": "2022-05-30T19:05:21.978476",
     "status": "completed"
    },
    "tags": []
   },
   "source": [
    "### `3.1` Response Variable Encoding"
   ]
  },
  {
   "cell_type": "code",
   "execution_count": 13,
   "id": "a1204010",
   "metadata": {
    "execution": {
     "iopub.execute_input": "2022-05-30T19:05:22.059155Z",
     "iopub.status.busy": "2022-05-30T19:05:22.058745Z",
     "iopub.status.idle": "2022-05-30T19:05:22.067729Z",
     "shell.execute_reply": "2022-05-30T19:05:22.066612Z"
    },
    "papermill": {
     "duration": 0.039629,
     "end_time": "2022-05-30T19:05:22.069977",
     "exception": false,
     "start_time": "2022-05-30T19:05:22.030348",
     "status": "completed"
    },
    "tags": []
   },
   "outputs": [],
   "source": [
    "label_encoder = LabelEncoder()\n",
    "df['y']= label_encoder.fit_transform(df['y'])"
   ]
  },
  {
   "cell_type": "markdown",
   "id": "b4bb3aa7",
   "metadata": {
    "papermill": {
     "duration": 0.026177,
     "end_time": "2022-05-30T19:05:22.121970",
     "exception": false,
     "start_time": "2022-05-30T19:05:22.095793",
     "status": "completed"
    },
    "tags": []
   },
   "source": [
    "### `3.2` Outliers handeling"
   ]
  },
  {
   "cell_type": "code",
   "execution_count": 14,
   "id": "937a07f4",
   "metadata": {
    "execution": {
     "iopub.execute_input": "2022-05-30T19:05:22.175603Z",
     "iopub.status.busy": "2022-05-30T19:05:22.174962Z",
     "iopub.status.idle": "2022-05-30T19:05:22.180745Z",
     "shell.execute_reply": "2022-05-30T19:05:22.179936Z"
    },
    "papermill": {
     "duration": 0.035562,
     "end_time": "2022-05-30T19:05:22.183105",
     "exception": false,
     "start_time": "2022-05-30T19:05:22.147543",
     "status": "completed"
    },
    "tags": []
   },
   "outputs": [],
   "source": [
    "def handle_outliers_fit(df, col, coeff):\n",
    "    \n",
    "    # IQR\n",
    "    Q1 = np.percentile(df[col], 25, interpolation = 'midpoint')\n",
    "\n",
    "    Q3 = np.percentile(df[col], 75, interpolation = 'midpoint')\n",
    "\n",
    "    IQR = Q3 - Q1\n",
    "\n",
    "    # Upper bound\n",
    "    upper_bound = Q3 + coeff * IQR\n",
    "\n",
    "    # Lower bound\n",
    "    lower_bound = Q1 - coeff * IQR\n",
    "    \n",
    "    return upper_bound, lower_bound"
   ]
  },
  {
   "cell_type": "code",
   "execution_count": 15,
   "id": "447f9b0b",
   "metadata": {
    "execution": {
     "iopub.execute_input": "2022-05-30T19:05:22.236557Z",
     "iopub.status.busy": "2022-05-30T19:05:22.235689Z",
     "iopub.status.idle": "2022-05-30T19:05:22.282474Z",
     "shell.execute_reply": "2022-05-30T19:05:22.281285Z"
    },
    "papermill": {
     "duration": 0.076475,
     "end_time": "2022-05-30T19:05:22.285255",
     "exception": false,
     "start_time": "2022-05-30T19:05:22.208780",
     "status": "completed"
    },
    "tags": []
   },
   "outputs": [
    {
     "name": "stdout",
     "output_type": "stream",
     "text": [
      "AspectRation:\n",
      "4    396\n",
      "5      1\n",
      "Name: y, dtype: int64\n",
      "\n",
      "Perimeter:\n",
      "1    406\n",
      "Name: y, dtype: int64\n",
      "\n",
      "ShapeFactor1:\n",
      "1    410\n",
      "3     20\n",
      "Name: y, dtype: int64\n",
      "\n",
      "ShapeFactor2:\n",
      "Series([], Name: y, dtype: int64)\n",
      "\n",
      "roundness:\n",
      "0    43\n",
      "4    19\n",
      "3     8\n",
      "5     5\n",
      "6     3\n",
      "Name: y, dtype: int64\n",
      "\n",
      "ConvexArea:\n",
      "1    418\n",
      "2     19\n",
      "0      5\n",
      "Name: y, dtype: int64\n",
      "\n",
      "Eccentricity:\n",
      "5    671\n",
      "0      8\n",
      "3      3\n",
      "1      1\n",
      "Name: y, dtype: int64\n",
      "\n",
      "ShapeFactor4:\n",
      "2    269\n",
      "4    203\n",
      "1     57\n",
      "6     29\n",
      "3     17\n",
      "0     16\n",
      "5      1\n",
      "Name: y, dtype: int64\n",
      "\n",
      "Compactness:\n",
      "5    83\n",
      "4    25\n",
      "Name: y, dtype: int64\n",
      "\n",
      "MajorAxisLength:\n",
      "1    316\n",
      "Name: y, dtype: int64\n",
      "\n",
      "Solidity:\n",
      "2    203\n",
      "0    153\n",
      "4    125\n",
      "3     42\n",
      "1     37\n",
      "6     32\n",
      "5     13\n",
      "Name: y, dtype: int64\n",
      "\n",
      "MinorAxisLength:\n",
      "1    418\n",
      "0     28\n",
      "2      6\n",
      "Name: y, dtype: int64\n",
      "\n",
      "EquivDiameter:\n",
      "1    418\n",
      "2      2\n",
      "Name: y, dtype: int64\n",
      "\n",
      "Extent:\n",
      "4    217\n",
      "1      1\n",
      "Name: y, dtype: int64\n",
      "\n",
      "ShapeFactor3:\n",
      "5    165\n",
      "0      2\n",
      "Name: y, dtype: int64\n",
      "\n",
      "Area:\n",
      "1    418\n",
      "2     20\n",
      "0      4\n",
      "Name: y, dtype: int64\n",
      "\n"
     ]
    }
   ],
   "source": [
    "# Removing outliers\n",
    "indeces_dict = {}\n",
    "for feature in list(set(df.columns.to_list()) - set(['ID', 'y'])):\n",
    "   \n",
    "    current_feature = df[feature]\n",
    "\n",
    "    upper_bound, lower_bound = handle_outliers_fit(df, feature, 1.5)\n",
    "\n",
    "    # Outliers indeces\n",
    "    outliers = df[((current_feature > upper_bound) | (current_feature < lower_bound))]\n",
    "    outliers_id = outliers['ID']\n",
    "    indeces_dict.update({feature: outliers_id})\n",
    "    \n",
    "    # Checking prediction patterns for each feature's outlier\n",
    "    print('{}:\\n{}\\n'.format(feature, outliers['y'].value_counts()))\n",
    "    \n"
   ]
  },
  {
   "cell_type": "code",
   "execution_count": 16,
   "id": "da6f16a4",
   "metadata": {
    "execution": {
     "iopub.execute_input": "2022-05-30T19:05:22.340367Z",
     "iopub.status.busy": "2022-05-30T19:05:22.339971Z",
     "iopub.status.idle": "2022-05-30T19:05:22.348662Z",
     "shell.execute_reply": "2022-05-30T19:05:22.347872Z"
    },
    "papermill": {
     "duration": 0.038265,
     "end_time": "2022-05-30T19:05:22.350628",
     "exception": false,
     "start_time": "2022-05-30T19:05:22.312363",
     "status": "completed"
    },
    "tags": []
   },
   "outputs": [],
   "source": [
    "# Extra features for splitting outliers\n",
    "'''\n",
    "EquivDiameter: 1\n",
    "Perimeter: 1\n",
    "MajorAxisLength: 1\n",
    "\n",
    "AspectRation: 4\n",
    "Extent: 4\n",
    "\n",
    "ShapeFactor3: 5\n",
    "Eccentricity: 5\n",
    "\n",
    "'''\n",
    "\n",
    "indeces_outliers_class_1 = [set(indeces_dict['EquivDiameter'].to_list()), \n",
    "                            # set(indeces_dict['Perimeter'].to_list()), \n",
    "                            set(indeces_dict['MajorAxisLength'].to_list())]\n",
    "\n",
    "indeces_outliers_class_4 = [set(indeces_dict['AspectRation'].to_list()),\n",
    "                            set(indeces_dict['Extent'].to_list())]\n",
    "\n",
    "indeces_outliers_class_5 = [set(indeces_dict['ShapeFactor3'].to_list()), \n",
    "                            set(indeces_dict['Eccentricity'].to_list())]\n",
    "\n",
    "indeces_outliers_class_1 = list(set.union(* indeces_outliers_class_1))\n",
    "indeces_outliers_class_4 = list(set.union(* indeces_outliers_class_4))\n",
    "indeces_outliers_class_5 = list(set.union(* indeces_outliers_class_5))"
   ]
  },
  {
   "cell_type": "code",
   "execution_count": 17,
   "id": "df2dffd4",
   "metadata": {
    "execution": {
     "iopub.execute_input": "2022-05-30T19:05:22.403376Z",
     "iopub.status.busy": "2022-05-30T19:05:22.402996Z",
     "iopub.status.idle": "2022-05-30T19:05:22.457180Z",
     "shell.execute_reply": "2022-05-30T19:05:22.455270Z"
    },
    "papermill": {
     "duration": 0.084111,
     "end_time": "2022-05-30T19:05:22.460236",
     "exception": false,
     "start_time": "2022-05-30T19:05:22.376125",
     "status": "completed"
    },
    "scrolled": true,
    "tags": []
   },
   "outputs": [
    {
     "data": {
      "text/html": [
       "<div>\n",
       "<style scoped>\n",
       "    .dataframe tbody tr th:only-of-type {\n",
       "        vertical-align: middle;\n",
       "    }\n",
       "\n",
       "    .dataframe tbody tr th {\n",
       "        vertical-align: top;\n",
       "    }\n",
       "\n",
       "    .dataframe thead th {\n",
       "        text-align: right;\n",
       "    }\n",
       "</style>\n",
       "<table border=\"1\" class=\"dataframe\">\n",
       "  <thead>\n",
       "    <tr style=\"text-align: right;\">\n",
       "      <th></th>\n",
       "      <th>Flag_outliers_1</th>\n",
       "      <th>Flag_outliers_4</th>\n",
       "      <th>Flag_outliers_5</th>\n",
       "    </tr>\n",
       "  </thead>\n",
       "  <tbody>\n",
       "    <tr>\n",
       "      <th>0</th>\n",
       "      <td>0.0</td>\n",
       "      <td>1.0</td>\n",
       "      <td>0.0</td>\n",
       "    </tr>\n",
       "    <tr>\n",
       "      <th>1</th>\n",
       "      <td>0.0</td>\n",
       "      <td>0.0</td>\n",
       "      <td>0.0</td>\n",
       "    </tr>\n",
       "    <tr>\n",
       "      <th>2</th>\n",
       "      <td>0.0</td>\n",
       "      <td>0.0</td>\n",
       "      <td>0.0</td>\n",
       "    </tr>\n",
       "    <tr>\n",
       "      <th>3</th>\n",
       "      <td>0.0</td>\n",
       "      <td>0.0</td>\n",
       "      <td>0.0</td>\n",
       "    </tr>\n",
       "    <tr>\n",
       "      <th>4</th>\n",
       "      <td>0.0</td>\n",
       "      <td>0.0</td>\n",
       "      <td>0.0</td>\n",
       "    </tr>\n",
       "    <tr>\n",
       "      <th>...</th>\n",
       "      <td>...</td>\n",
       "      <td>...</td>\n",
       "      <td>...</td>\n",
       "    </tr>\n",
       "    <tr>\n",
       "      <th>10829</th>\n",
       "      <td>0.0</td>\n",
       "      <td>0.0</td>\n",
       "      <td>0.0</td>\n",
       "    </tr>\n",
       "    <tr>\n",
       "      <th>10830</th>\n",
       "      <td>0.0</td>\n",
       "      <td>0.0</td>\n",
       "      <td>0.0</td>\n",
       "    </tr>\n",
       "    <tr>\n",
       "      <th>10831</th>\n",
       "      <td>0.0</td>\n",
       "      <td>0.0</td>\n",
       "      <td>0.0</td>\n",
       "    </tr>\n",
       "    <tr>\n",
       "      <th>10832</th>\n",
       "      <td>0.0</td>\n",
       "      <td>0.0</td>\n",
       "      <td>0.0</td>\n",
       "    </tr>\n",
       "    <tr>\n",
       "      <th>10833</th>\n",
       "      <td>0.0</td>\n",
       "      <td>0.0</td>\n",
       "      <td>0.0</td>\n",
       "    </tr>\n",
       "  </tbody>\n",
       "</table>\n",
       "<p>10834 rows × 3 columns</p>\n",
       "</div>"
      ],
      "text/plain": [
       "       Flag_outliers_1  Flag_outliers_4  Flag_outliers_5\n",
       "0                  0.0              1.0              0.0\n",
       "1                  0.0              0.0              0.0\n",
       "2                  0.0              0.0              0.0\n",
       "3                  0.0              0.0              0.0\n",
       "4                  0.0              0.0              0.0\n",
       "...                ...              ...              ...\n",
       "10829              0.0              0.0              0.0\n",
       "10830              0.0              0.0              0.0\n",
       "10831              0.0              0.0              0.0\n",
       "10832              0.0              0.0              0.0\n",
       "10833              0.0              0.0              0.0\n",
       "\n",
       "[10834 rows x 3 columns]"
      ]
     },
     "execution_count": 17,
     "metadata": {},
     "output_type": "execute_result"
    }
   ],
   "source": [
    "flags_df = pd.DataFrame(np.zeros((df.shape[0], 3)), columns = ['Flag_outliers_1', 'Flag_outliers_4', 'Flag_outliers_5']) \n",
    "\n",
    "\n",
    "\n",
    "for Id in indeces_outliers_class_1:\n",
    "    flags_df.at[Id, 'Flag_outliers_1'] = 1.0\n",
    "    \n",
    "for Id in indeces_outliers_class_4:\n",
    "    flags_df.at[Id, 'Flag_outliers_4'] = 1.0\n",
    "    \n",
    "for Id in indeces_outliers_class_5:\n",
    "    flags_df.at[Id, 'Flag_outliers_5'] = 1.0\n",
    "\n",
    "flags_df"
   ]
  },
  {
   "cell_type": "code",
   "execution_count": 18,
   "id": "82ebba60",
   "metadata": {
    "execution": {
     "iopub.execute_input": "2022-05-30T19:05:22.528394Z",
     "iopub.status.busy": "2022-05-30T19:05:22.527724Z",
     "iopub.status.idle": "2022-05-30T19:05:22.578051Z",
     "shell.execute_reply": "2022-05-30T19:05:22.577038Z"
    },
    "papermill": {
     "duration": 0.090888,
     "end_time": "2022-05-30T19:05:22.580469",
     "exception": false,
     "start_time": "2022-05-30T19:05:22.489581",
     "status": "completed"
    },
    "tags": []
   },
   "outputs": [
    {
     "data": {
      "text/html": [
       "<div>\n",
       "<style scoped>\n",
       "    .dataframe tbody tr th:only-of-type {\n",
       "        vertical-align: middle;\n",
       "    }\n",
       "\n",
       "    .dataframe tbody tr th {\n",
       "        vertical-align: top;\n",
       "    }\n",
       "\n",
       "    .dataframe thead th {\n",
       "        text-align: right;\n",
       "    }\n",
       "</style>\n",
       "<table border=\"1\" class=\"dataframe\">\n",
       "  <thead>\n",
       "    <tr style=\"text-align: right;\">\n",
       "      <th></th>\n",
       "      <th>ID</th>\n",
       "      <th>Area</th>\n",
       "      <th>Perimeter</th>\n",
       "      <th>MajorAxisLength</th>\n",
       "      <th>MinorAxisLength</th>\n",
       "      <th>AspectRation</th>\n",
       "      <th>Eccentricity</th>\n",
       "      <th>ConvexArea</th>\n",
       "      <th>EquivDiameter</th>\n",
       "      <th>Extent</th>\n",
       "      <th>...</th>\n",
       "      <th>roundness</th>\n",
       "      <th>Compactness</th>\n",
       "      <th>ShapeFactor1</th>\n",
       "      <th>ShapeFactor2</th>\n",
       "      <th>ShapeFactor3</th>\n",
       "      <th>ShapeFactor4</th>\n",
       "      <th>y</th>\n",
       "      <th>Flag_outliers_1</th>\n",
       "      <th>Flag_outliers_4</th>\n",
       "      <th>Flag_outliers_5</th>\n",
       "    </tr>\n",
       "  </thead>\n",
       "  <tbody>\n",
       "    <tr>\n",
       "      <th>0</th>\n",
       "      <td>0</td>\n",
       "      <td>58238</td>\n",
       "      <td>971.303</td>\n",
       "      <td>397.202654</td>\n",
       "      <td>186.945510</td>\n",
       "      <td>2.124697</td>\n",
       "      <td>0.882317</td>\n",
       "      <td>58977</td>\n",
       "      <td>272.306674</td>\n",
       "      <td>0.604756</td>\n",
       "      <td>...</td>\n",
       "      <td>0.775723</td>\n",
       "      <td>0.685561</td>\n",
       "      <td>0.006820</td>\n",
       "      <td>0.000929</td>\n",
       "      <td>0.469994</td>\n",
       "      <td>0.998595</td>\n",
       "      <td>4</td>\n",
       "      <td>0.0</td>\n",
       "      <td>1.0</td>\n",
       "      <td>0.0</td>\n",
       "    </tr>\n",
       "    <tr>\n",
       "      <th>1</th>\n",
       "      <td>1</td>\n",
       "      <td>44515</td>\n",
       "      <td>757.601</td>\n",
       "      <td>265.590470</td>\n",
       "      <td>213.967453</td>\n",
       "      <td>1.241266</td>\n",
       "      <td>0.592420</td>\n",
       "      <td>44780</td>\n",
       "      <td>238.071960</td>\n",
       "      <td>0.771745</td>\n",
       "      <td>...</td>\n",
       "      <td>0.974620</td>\n",
       "      <td>0.896387</td>\n",
       "      <td>0.005966</td>\n",
       "      <td>0.002376</td>\n",
       "      <td>0.803510</td>\n",
       "      <td>0.997370</td>\n",
       "      <td>5</td>\n",
       "      <td>0.0</td>\n",
       "      <td>0.0</td>\n",
       "      <td>0.0</td>\n",
       "    </tr>\n",
       "    <tr>\n",
       "      <th>2</th>\n",
       "      <td>2</td>\n",
       "      <td>31662</td>\n",
       "      <td>653.783</td>\n",
       "      <td>239.902428</td>\n",
       "      <td>168.421505</td>\n",
       "      <td>1.424417</td>\n",
       "      <td>0.712136</td>\n",
       "      <td>32034</td>\n",
       "      <td>200.781748</td>\n",
       "      <td>0.801407</td>\n",
       "      <td>...</td>\n",
       "      <td>0.930853</td>\n",
       "      <td>0.836931</td>\n",
       "      <td>0.007577</td>\n",
       "      <td>0.002293</td>\n",
       "      <td>0.700453</td>\n",
       "      <td>0.997737</td>\n",
       "      <td>3</td>\n",
       "      <td>0.0</td>\n",
       "      <td>0.0</td>\n",
       "      <td>0.0</td>\n",
       "    </tr>\n",
       "    <tr>\n",
       "      <th>3</th>\n",
       "      <td>3</td>\n",
       "      <td>38778</td>\n",
       "      <td>734.020</td>\n",
       "      <td>268.446281</td>\n",
       "      <td>184.061923</td>\n",
       "      <td>1.458456</td>\n",
       "      <td>0.727925</td>\n",
       "      <td>39208</td>\n",
       "      <td>222.201897</td>\n",
       "      <td>0.766137</td>\n",
       "      <td>...</td>\n",
       "      <td>0.904439</td>\n",
       "      <td>0.827733</td>\n",
       "      <td>0.006923</td>\n",
       "      <td>0.002005</td>\n",
       "      <td>0.685142</td>\n",
       "      <td>0.999250</td>\n",
       "      <td>3</td>\n",
       "      <td>0.0</td>\n",
       "      <td>0.0</td>\n",
       "      <td>0.0</td>\n",
       "    </tr>\n",
       "    <tr>\n",
       "      <th>4</th>\n",
       "      <td>4</td>\n",
       "      <td>42530</td>\n",
       "      <td>775.403</td>\n",
       "      <td>281.212824</td>\n",
       "      <td>193.236878</td>\n",
       "      <td>1.455275</td>\n",
       "      <td>0.726511</td>\n",
       "      <td>43028</td>\n",
       "      <td>232.703412</td>\n",
       "      <td>0.729816</td>\n",
       "      <td>...</td>\n",
       "      <td>0.888895</td>\n",
       "      <td>0.827499</td>\n",
       "      <td>0.006612</td>\n",
       "      <td>0.001912</td>\n",
       "      <td>0.684755</td>\n",
       "      <td>0.996507</td>\n",
       "      <td>6</td>\n",
       "      <td>0.0</td>\n",
       "      <td>0.0</td>\n",
       "      <td>0.0</td>\n",
       "    </tr>\n",
       "    <tr>\n",
       "      <th>...</th>\n",
       "      <td>...</td>\n",
       "      <td>...</td>\n",
       "      <td>...</td>\n",
       "      <td>...</td>\n",
       "      <td>...</td>\n",
       "      <td>...</td>\n",
       "      <td>...</td>\n",
       "      <td>...</td>\n",
       "      <td>...</td>\n",
       "      <td>...</td>\n",
       "      <td>...</td>\n",
       "      <td>...</td>\n",
       "      <td>...</td>\n",
       "      <td>...</td>\n",
       "      <td>...</td>\n",
       "      <td>...</td>\n",
       "      <td>...</td>\n",
       "      <td>...</td>\n",
       "      <td>...</td>\n",
       "      <td>...</td>\n",
       "      <td>...</td>\n",
       "    </tr>\n",
       "    <tr>\n",
       "      <th>10829</th>\n",
       "      <td>10829</td>\n",
       "      <td>37777</td>\n",
       "      <td>716.007</td>\n",
       "      <td>250.174662</td>\n",
       "      <td>192.704033</td>\n",
       "      <td>1.298233</td>\n",
       "      <td>0.637708</td>\n",
       "      <td>38174</td>\n",
       "      <td>219.315230</td>\n",
       "      <td>0.770519</td>\n",
       "      <td>...</td>\n",
       "      <td>0.925983</td>\n",
       "      <td>0.876648</td>\n",
       "      <td>0.006622</td>\n",
       "      <td>0.002413</td>\n",
       "      <td>0.768513</td>\n",
       "      <td>0.997708</td>\n",
       "      <td>5</td>\n",
       "      <td>0.0</td>\n",
       "      <td>0.0</td>\n",
       "      <td>0.0</td>\n",
       "    </tr>\n",
       "    <tr>\n",
       "      <th>10830</th>\n",
       "      <td>10830</td>\n",
       "      <td>32187</td>\n",
       "      <td>667.621</td>\n",
       "      <td>247.778775</td>\n",
       "      <td>165.786862</td>\n",
       "      <td>1.494562</td>\n",
       "      <td>0.743179</td>\n",
       "      <td>32582</td>\n",
       "      <td>202.439525</td>\n",
       "      <td>0.731805</td>\n",
       "      <td>...</td>\n",
       "      <td>0.907466</td>\n",
       "      <td>0.817017</td>\n",
       "      <td>0.007698</td>\n",
       "      <td>0.002116</td>\n",
       "      <td>0.667517</td>\n",
       "      <td>0.997646</td>\n",
       "      <td>3</td>\n",
       "      <td>0.0</td>\n",
       "      <td>0.0</td>\n",
       "      <td>0.0</td>\n",
       "    </tr>\n",
       "    <tr>\n",
       "      <th>10831</th>\n",
       "      <td>10831</td>\n",
       "      <td>81837</td>\n",
       "      <td>1095.937</td>\n",
       "      <td>433.838186</td>\n",
       "      <td>241.527026</td>\n",
       "      <td>1.796230</td>\n",
       "      <td>0.830699</td>\n",
       "      <td>82554</td>\n",
       "      <td>322.797312</td>\n",
       "      <td>0.771996</td>\n",
       "      <td>...</td>\n",
       "      <td>0.856226</td>\n",
       "      <td>0.744050</td>\n",
       "      <td>0.005301</td>\n",
       "      <td>0.001002</td>\n",
       "      <td>0.553610</td>\n",
       "      <td>0.994412</td>\n",
       "      <td>2</td>\n",
       "      <td>0.0</td>\n",
       "      <td>0.0</td>\n",
       "      <td>0.0</td>\n",
       "    </tr>\n",
       "    <tr>\n",
       "      <th>10832</th>\n",
       "      <td>10832</td>\n",
       "      <td>48212</td>\n",
       "      <td>826.362</td>\n",
       "      <td>309.639462</td>\n",
       "      <td>199.285811</td>\n",
       "      <td>1.553746</td>\n",
       "      <td>0.765357</td>\n",
       "      <td>48777</td>\n",
       "      <td>247.760822</td>\n",
       "      <td>0.677002</td>\n",
       "      <td>...</td>\n",
       "      <td>0.887206</td>\n",
       "      <td>0.800159</td>\n",
       "      <td>0.006422</td>\n",
       "      <td>0.001624</td>\n",
       "      <td>0.640255</td>\n",
       "      <td>0.994793</td>\n",
       "      <td>6</td>\n",
       "      <td>0.0</td>\n",
       "      <td>0.0</td>\n",
       "      <td>0.0</td>\n",
       "    </tr>\n",
       "    <tr>\n",
       "      <th>10833</th>\n",
       "      <td>10833</td>\n",
       "      <td>28026</td>\n",
       "      <td>610.943</td>\n",
       "      <td>215.446569</td>\n",
       "      <td>165.740377</td>\n",
       "      <td>1.299904</td>\n",
       "      <td>0.638903</td>\n",
       "      <td>28302</td>\n",
       "      <td>188.901592</td>\n",
       "      <td>0.776688</td>\n",
       "      <td>...</td>\n",
       "      <td>0.943560</td>\n",
       "      <td>0.876791</td>\n",
       "      <td>0.007687</td>\n",
       "      <td>0.002802</td>\n",
       "      <td>0.768762</td>\n",
       "      <td>0.999317</td>\n",
       "      <td>3</td>\n",
       "      <td>0.0</td>\n",
       "      <td>0.0</td>\n",
       "      <td>0.0</td>\n",
       "    </tr>\n",
       "  </tbody>\n",
       "</table>\n",
       "<p>10834 rows × 21 columns</p>\n",
       "</div>"
      ],
      "text/plain": [
       "          ID   Area  Perimeter  MajorAxisLength  MinorAxisLength  \\\n",
       "0          0  58238    971.303       397.202654       186.945510   \n",
       "1          1  44515    757.601       265.590470       213.967453   \n",
       "2          2  31662    653.783       239.902428       168.421505   \n",
       "3          3  38778    734.020       268.446281       184.061923   \n",
       "4          4  42530    775.403       281.212824       193.236878   \n",
       "...      ...    ...        ...              ...              ...   \n",
       "10829  10829  37777    716.007       250.174662       192.704033   \n",
       "10830  10830  32187    667.621       247.778775       165.786862   \n",
       "10831  10831  81837   1095.937       433.838186       241.527026   \n",
       "10832  10832  48212    826.362       309.639462       199.285811   \n",
       "10833  10833  28026    610.943       215.446569       165.740377   \n",
       "\n",
       "       AspectRation  Eccentricity  ConvexArea  EquivDiameter    Extent  ...  \\\n",
       "0          2.124697      0.882317       58977     272.306674  0.604756  ...   \n",
       "1          1.241266      0.592420       44780     238.071960  0.771745  ...   \n",
       "2          1.424417      0.712136       32034     200.781748  0.801407  ...   \n",
       "3          1.458456      0.727925       39208     222.201897  0.766137  ...   \n",
       "4          1.455275      0.726511       43028     232.703412  0.729816  ...   \n",
       "...             ...           ...         ...            ...       ...  ...   \n",
       "10829      1.298233      0.637708       38174     219.315230  0.770519  ...   \n",
       "10830      1.494562      0.743179       32582     202.439525  0.731805  ...   \n",
       "10831      1.796230      0.830699       82554     322.797312  0.771996  ...   \n",
       "10832      1.553746      0.765357       48777     247.760822  0.677002  ...   \n",
       "10833      1.299904      0.638903       28302     188.901592  0.776688  ...   \n",
       "\n",
       "       roundness  Compactness  ShapeFactor1  ShapeFactor2  ShapeFactor3  \\\n",
       "0       0.775723     0.685561      0.006820      0.000929      0.469994   \n",
       "1       0.974620     0.896387      0.005966      0.002376      0.803510   \n",
       "2       0.930853     0.836931      0.007577      0.002293      0.700453   \n",
       "3       0.904439     0.827733      0.006923      0.002005      0.685142   \n",
       "4       0.888895     0.827499      0.006612      0.001912      0.684755   \n",
       "...          ...          ...           ...           ...           ...   \n",
       "10829   0.925983     0.876648      0.006622      0.002413      0.768513   \n",
       "10830   0.907466     0.817017      0.007698      0.002116      0.667517   \n",
       "10831   0.856226     0.744050      0.005301      0.001002      0.553610   \n",
       "10832   0.887206     0.800159      0.006422      0.001624      0.640255   \n",
       "10833   0.943560     0.876791      0.007687      0.002802      0.768762   \n",
       "\n",
       "       ShapeFactor4  y  Flag_outliers_1  Flag_outliers_4  Flag_outliers_5  \n",
       "0          0.998595  4              0.0              1.0              0.0  \n",
       "1          0.997370  5              0.0              0.0              0.0  \n",
       "2          0.997737  3              0.0              0.0              0.0  \n",
       "3          0.999250  3              0.0              0.0              0.0  \n",
       "4          0.996507  6              0.0              0.0              0.0  \n",
       "...             ... ..              ...              ...              ...  \n",
       "10829      0.997708  5              0.0              0.0              0.0  \n",
       "10830      0.997646  3              0.0              0.0              0.0  \n",
       "10831      0.994412  2              0.0              0.0              0.0  \n",
       "10832      0.994793  6              0.0              0.0              0.0  \n",
       "10833      0.999317  3              0.0              0.0              0.0  \n",
       "\n",
       "[10834 rows x 21 columns]"
      ]
     },
     "execution_count": 18,
     "metadata": {},
     "output_type": "execute_result"
    }
   ],
   "source": [
    "df_new = df\n",
    "df_new = df_new.merge(flags_df, right_index = True, left_index = True, how = 'inner')\n",
    "df = df_new\n",
    "df"
   ]
  },
  {
   "cell_type": "code",
   "execution_count": 19,
   "id": "96b84db7",
   "metadata": {
    "execution": {
     "iopub.execute_input": "2022-05-30T19:05:22.636688Z",
     "iopub.status.busy": "2022-05-30T19:05:22.636312Z",
     "iopub.status.idle": "2022-05-30T19:05:22.646540Z",
     "shell.execute_reply": "2022-05-30T19:05:22.645517Z"
    },
    "papermill": {
     "duration": 0.040531,
     "end_time": "2022-05-30T19:05:22.648511",
     "exception": false,
     "start_time": "2022-05-30T19:05:22.607980",
     "status": "completed"
    },
    "tags": []
   },
   "outputs": [
    {
     "data": {
      "text/plain": [
       "0.0    10414\n",
       "1.0      420\n",
       "Name: Flag_outliers_1, dtype: int64"
      ]
     },
     "execution_count": 19,
     "metadata": {},
     "output_type": "execute_result"
    }
   ],
   "source": [
    "df['Flag_outliers_1'].value_counts()"
   ]
  },
  {
   "cell_type": "code",
   "execution_count": 20,
   "id": "0a01ffc8",
   "metadata": {
    "execution": {
     "iopub.execute_input": "2022-05-30T19:05:22.703872Z",
     "iopub.status.busy": "2022-05-30T19:05:22.703433Z",
     "iopub.status.idle": "2022-05-30T19:05:22.711618Z",
     "shell.execute_reply": "2022-05-30T19:05:22.710959Z"
    },
    "papermill": {
     "duration": 0.03854,
     "end_time": "2022-05-30T19:05:22.714145",
     "exception": false,
     "start_time": "2022-05-30T19:05:22.675605",
     "status": "completed"
    },
    "tags": []
   },
   "outputs": [
    {
     "data": {
      "text/plain": [
       "0.0    10331\n",
       "1.0      503\n",
       "Name: Flag_outliers_4, dtype: int64"
      ]
     },
     "execution_count": 20,
     "metadata": {},
     "output_type": "execute_result"
    }
   ],
   "source": [
    "df['Flag_outliers_4'].value_counts()"
   ]
  },
  {
   "cell_type": "code",
   "execution_count": 21,
   "id": "437da15b",
   "metadata": {
    "execution": {
     "iopub.execute_input": "2022-05-30T19:05:22.776075Z",
     "iopub.status.busy": "2022-05-30T19:05:22.775413Z",
     "iopub.status.idle": "2022-05-30T19:05:22.783792Z",
     "shell.execute_reply": "2022-05-30T19:05:22.782651Z"
    },
    "papermill": {
     "duration": 0.04137,
     "end_time": "2022-05-30T19:05:22.785977",
     "exception": false,
     "start_time": "2022-05-30T19:05:22.744607",
     "status": "completed"
    },
    "scrolled": true,
    "tags": []
   },
   "outputs": [
    {
     "data": {
      "text/plain": [
       "0.0    10151\n",
       "1.0      683\n",
       "Name: Flag_outliers_5, dtype: int64"
      ]
     },
     "execution_count": 21,
     "metadata": {},
     "output_type": "execute_result"
    }
   ],
   "source": [
    "df['Flag_outliers_5'].value_counts()"
   ]
  },
  {
   "cell_type": "markdown",
   "id": "af901910",
   "metadata": {
    "papermill": {
     "duration": 0.030645,
     "end_time": "2022-05-30T19:05:22.848561",
     "exception": false,
     "start_time": "2022-05-30T19:05:22.817916",
     "status": "completed"
    },
    "tags": []
   },
   "source": [
    "### X and y data"
   ]
  },
  {
   "cell_type": "code",
   "execution_count": 22,
   "id": "4e2802a4",
   "metadata": {
    "execution": {
     "iopub.execute_input": "2022-05-30T19:05:22.908113Z",
     "iopub.status.busy": "2022-05-30T19:05:22.907516Z",
     "iopub.status.idle": "2022-05-30T19:05:22.915254Z",
     "shell.execute_reply": "2022-05-30T19:05:22.914546Z"
    },
    "papermill": {
     "duration": 0.039108,
     "end_time": "2022-05-30T19:05:22.917417",
     "exception": false,
     "start_time": "2022-05-30T19:05:22.878309",
     "status": "completed"
    },
    "tags": []
   },
   "outputs": [],
   "source": [
    "X = df.drop(['ID', 'y'], axis=1)\n",
    "y = df['y']"
   ]
  },
  {
   "cell_type": "markdown",
   "id": "67ce935c",
   "metadata": {
    "papermill": {
     "duration": 0.028361,
     "end_time": "2022-05-30T19:05:22.973935",
     "exception": false,
     "start_time": "2022-05-30T19:05:22.945574",
     "status": "completed"
    },
    "tags": []
   },
   "source": [
    "### `3.3` Handeling Imbalanced Data"
   ]
  },
  {
   "cell_type": "code",
   "execution_count": 23,
   "id": "0e7b77c8",
   "metadata": {
    "execution": {
     "iopub.execute_input": "2022-05-30T19:05:23.033602Z",
     "iopub.status.busy": "2022-05-30T19:05:23.032729Z",
     "iopub.status.idle": "2022-05-30T19:05:23.216240Z",
     "shell.execute_reply": "2022-05-30T19:05:23.215162Z"
    },
    "papermill": {
     "duration": 0.215967,
     "end_time": "2022-05-30T19:05:23.218602",
     "exception": false,
     "start_time": "2022-05-30T19:05:23.002635",
     "status": "completed"
    },
    "scrolled": true,
    "tags": []
   },
   "outputs": [
    {
     "name": "stdout",
     "output_type": "stream",
     "text": [
      "3    2837\n",
      "6    2109\n",
      "5    1621\n",
      "4    1488\n",
      "2    1304\n",
      "0    1057\n",
      "1     418\n",
      "Name: y, dtype: int64\n"
     ]
    },
    {
     "data": {
      "image/png": "[encoded data removed]",
      "text/plain": [
       "<Figure size 432x288 with 1 Axes>"
      ]
     },
     "metadata": {
      "needs_background": "light"
     },
     "output_type": "display_data"
    }
   ],
   "source": [
    "print(df['y'].value_counts())\n",
    "_ = sns.countplot(x='y', data=df)"
   ]
  },
  {
   "cell_type": "code",
   "execution_count": 24,
   "id": "dc688859",
   "metadata": {
    "execution": {
     "iopub.execute_input": "2022-05-30T19:05:23.275303Z",
     "iopub.status.busy": "2022-05-30T19:05:23.274419Z",
     "iopub.status.idle": "2022-05-30T19:05:24.074739Z",
     "shell.execute_reply": "2022-05-30T19:05:24.073591Z"
    },
    "papermill": {
     "duration": 0.831094,
     "end_time": "2022-05-30T19:05:24.077091",
     "exception": false,
     "start_time": "2022-05-30T19:05:23.245997",
     "status": "completed"
    },
    "tags": []
   },
   "outputs": [
    {
     "data": {
      "image/png": "[encoded data removed]",
      "text/plain": [
       "<Figure size 432x288 with 1 Axes>"
      ]
     },
     "metadata": {
      "needs_background": "light"
     },
     "output_type": "display_data"
    }
   ],
   "source": [
    "#imbalanced data \n",
    "from sklearn.ensemble import RandomForestClassifier \n",
    "from imblearn.over_sampling import SMOTE\n",
    "from imblearn.under_sampling import RandomUnderSampler\n",
    "from imblearn.pipeline import Pipeline\n",
    "from sklearn.metrics import accuracy_score\n",
    "\n",
    "'''k=10 n=1800'''\n",
    "over = SMOTE(sampling_strategy = {0:1700, 1:1700, 2:1700, 4:1700, 5:1700}, k_neighbors=10, random_state=42)\n",
    "X_res, y_res = over.fit_resample(X ,y)\n",
    "\n",
    "under = RandomUnderSampler(sampling_strategy = {3:1700, 6:1700}, random_state=42)\n",
    "X_res, y_res = under.fit_resample(X_res, y_res)\n",
    "\n",
    "_ = sns.countplot(x=y_res, data=df)"
   ]
  },
  {
   "cell_type": "markdown",
   "id": "285a156e",
   "metadata": {
    "papermill": {
     "duration": 0.0278,
     "end_time": "2022-05-30T19:05:24.134177",
     "exception": false,
     "start_time": "2022-05-30T19:05:24.106377",
     "status": "completed"
    },
    "tags": []
   },
   "source": [
    "### `3.4` Feature Importance"
   ]
  },
  {
   "cell_type": "code",
   "execution_count": 25,
   "id": "0ea81013",
   "metadata": {
    "execution": {
     "iopub.execute_input": "2022-05-30T19:05:24.191547Z",
     "iopub.status.busy": "2022-05-30T19:05:24.190519Z",
     "iopub.status.idle": "2022-05-30T19:05:25.058316Z",
     "shell.execute_reply": "2022-05-30T19:05:25.056988Z"
    },
    "papermill": {
     "duration": 0.89943,
     "end_time": "2022-05-30T19:05:25.061262",
     "exception": false,
     "start_time": "2022-05-30T19:05:24.161832",
     "status": "completed"
    },
    "tags": []
   },
   "outputs": [
    {
     "name": "stdout",
     "output_type": "stream",
     "text": [
      "[0.06362462 0.06604776 0.06775695 0.07488294 0.06541572 0.05784939\n",
      " 0.06254718 0.07588148 0.01209288 0.01669471 0.06131828 0.07425294\n",
      " 0.06916319 0.05444045 0.07190843 0.02586904 0.05650277 0.00916686\n",
      " 0.0145844 ]\n"
     ]
    }
   ],
   "source": [
    "from sklearn.ensemble import ExtraTreesClassifier\n",
    "model = ExtraTreesClassifier()\n",
    "model.fit(X_res, y_res)\n",
    "print(model.feature_importances_)"
   ]
  },
  {
   "cell_type": "code",
   "execution_count": 26,
   "id": "e48c9987",
   "metadata": {
    "execution": {
     "iopub.execute_input": "2022-05-30T19:05:25.158930Z",
     "iopub.status.busy": "2022-05-30T19:05:25.158496Z",
     "iopub.status.idle": "2022-05-30T19:05:25.468621Z",
     "shell.execute_reply": "2022-05-30T19:05:25.467819Z"
    },
    "papermill": {
     "duration": 0.378431,
     "end_time": "2022-05-30T19:05:25.470941",
     "exception": false,
     "start_time": "2022-05-30T19:05:25.092510",
     "status": "completed"
    },
    "tags": []
   },
   "outputs": [
    {
     "data": {
      "text/plain": [
       "<AxesSubplot:>"
      ]
     },
     "execution_count": 26,
     "metadata": {},
     "output_type": "execute_result"
    },
    {
     "data": {
      "image/png": "[encoded data removed]",
      "text/plain": [
       "<Figure size 432x288 with 1 Axes>"
      ]
     },
     "metadata": {
      "needs_background": "light"
     },
     "output_type": "display_data"
    }
   ],
   "source": [
    "feat_imp = pd.Series(model.feature_importances_, index=X_res.columns)\n",
    "feat_imp.nlargest(35).plot(kind='barh')"
   ]
  },
  {
   "cell_type": "code",
   "execution_count": 27,
   "id": "4470a03a",
   "metadata": {
    "execution": {
     "iopub.execute_input": "2022-05-30T19:05:25.534288Z",
     "iopub.status.busy": "2022-05-30T19:05:25.533236Z",
     "iopub.status.idle": "2022-05-30T19:05:25.537627Z",
     "shell.execute_reply": "2022-05-30T19:05:25.536881Z"
    },
    "papermill": {
     "duration": 0.038077,
     "end_time": "2022-05-30T19:05:25.539758",
     "exception": false,
     "start_time": "2022-05-30T19:05:25.501681",
     "status": "completed"
    },
    "tags": []
   },
   "outputs": [],
   "source": [
    "# X_res = X_res.drop(columns = ['Solidity'])"
   ]
  },
  {
   "cell_type": "markdown",
   "id": "328bfc2d",
   "metadata": {
    "papermill": {
     "duration": 0.030906,
     "end_time": "2022-05-30T19:05:25.602225",
     "exception": false,
     "start_time": "2022-05-30T19:05:25.571319",
     "status": "completed"
    },
    "tags": []
   },
   "source": [
    "# `04` Model Selection"
   ]
  },
  {
   "cell_type": "code",
   "execution_count": 28,
   "id": "8b502820",
   "metadata": {
    "execution": {
     "iopub.execute_input": "2022-05-30T19:05:25.665854Z",
     "iopub.status.busy": "2022-05-30T19:05:25.665413Z",
     "iopub.status.idle": "2022-05-30T19:05:25.675932Z",
     "shell.execute_reply": "2022-05-30T19:05:25.675012Z"
    },
    "papermill": {
     "duration": 0.043824,
     "end_time": "2022-05-30T19:05:25.678331",
     "exception": false,
     "start_time": "2022-05-30T19:05:25.634507",
     "status": "completed"
    },
    "tags": []
   },
   "outputs": [],
   "source": [
    "from sklearn.model_selection import train_test_split\n",
    "X_train, X_test, y_train, y_test = train_test_split(X_res, y_res, test_size=0.1, random_state = 42)"
   ]
  },
  {
   "cell_type": "code",
   "execution_count": 29,
   "id": "049ca112",
   "metadata": {
    "execution": {
     "iopub.execute_input": "2022-05-30T19:05:25.736046Z",
     "iopub.status.busy": "2022-05-30T19:05:25.735637Z",
     "iopub.status.idle": "2022-05-30T19:05:25.741571Z",
     "shell.execute_reply": "2022-05-30T19:05:25.740747Z"
    },
    "papermill": {
     "duration": 0.037566,
     "end_time": "2022-05-30T19:05:25.743732",
     "exception": false,
     "start_time": "2022-05-30T19:05:25.706166",
     "status": "completed"
    },
    "tags": []
   },
   "outputs": [],
   "source": [
    "# #  Lazy Predicror for best model:\n",
    "\n",
    "# from lazypredict.Supervised import LazyClassifier\n",
    "\n",
    "# from sklearn.utils import shuffle\n",
    "\n",
    "# # from sklearn import datasets\n",
    "\n",
    "\n",
    "# cls_lazy = LazyClassifier(random_state = 42)\n",
    "\n",
    "# models, predictions = cls_lazy.fit(X_train, X_test, y_train, y_test)\n",
    "\n",
    "\n",
    "\n",
    "# print(models)\n"
   ]
  },
  {
   "cell_type": "markdown",
   "id": "a9bfb2e2",
   "metadata": {
    "papermill": {
     "duration": 0.028724,
     "end_time": "2022-05-30T19:05:25.800731",
     "exception": false,
     "start_time": "2022-05-30T19:05:25.772007",
     "status": "completed"
    },
    "tags": []
   },
   "source": [
    "# `05` Hyper-Parameters Tuning "
   ]
  },
  {
   "cell_type": "code",
   "execution_count": 30,
   "id": "b99b52fa",
   "metadata": {
    "execution": {
     "iopub.execute_input": "2022-05-30T19:05:25.860325Z",
     "iopub.status.busy": "2022-05-30T19:05:25.858823Z",
     "iopub.status.idle": "2022-05-30T19:05:25.866662Z",
     "shell.execute_reply": "2022-05-30T19:05:25.865888Z"
    },
    "papermill": {
     "duration": 0.040003,
     "end_time": "2022-05-30T19:05:25.869126",
     "exception": false,
     "start_time": "2022-05-30T19:05:25.829123",
     "status": "completed"
    },
    "tags": []
   },
   "outputs": [
    {
     "data": {
      "text/plain": [
       "\"\\nfrom sklearn.model_selection import GridSearchCV\\nfrom sklearn.metrics import make_scorer\\n\\n\\n\\nparams = {'depth':[3,1,2,6,4,5,7,8,9,10],\\n              'iterations':[250,100,500,1000],\\n              'learning_rate':[0.03,0.001,0.01,0.1,0.2,0.3],\\n              'l2_leaf_reg':[3,1,5,10,100],\\n              'border_count':[32,5,10,20,50,100,200],\\n              'bagging_temperature':[0.03,0.09,0.25,0.75],\\n              'random_strength':[0.2,0.5,0.8],\\n              'max_ctr_complexity':[1,2,3,4,5]}\\n\\n\\n\\nmodel = CatBoostClassifier(random_state=9, task_type='CPU')\\ngrid_search_result = model.grid_search(params,\\n                                       X=X_res,\\n                                       y=y_res,\\n                                       cv=10,\\n                                       partition_random_seed=42,\\n                                       stratified=True)\""
      ]
     },
     "execution_count": 30,
     "metadata": {},
     "output_type": "execute_result"
    }
   ],
   "source": [
    "'''\n",
    "from sklearn.model_selection import GridSearchCV\n",
    "from sklearn.metrics import make_scorer\n",
    "\n",
    "\n",
    "\n",
    "params = {'depth':[3,1,2,6,4,5,7,8,9,10],\n",
    "              'iterations':[250,100,500,1000],\n",
    "              'learning_rate':[0.03,0.001,0.01,0.1,0.2,0.3],\n",
    "              'l2_leaf_reg':[3,1,5,10,100],\n",
    "              'border_count':[32,5,10,20,50,100,200],\n",
    "              'bagging_temperature':[0.03,0.09,0.25,0.75],\n",
    "              'random_strength':[0.2,0.5,0.8],\n",
    "              'max_ctr_complexity':[1,2,3,4,5]}\n",
    "\n",
    "\n",
    "\n",
    "model = CatBoostClassifier(random_state=9, task_type='CPU')\n",
    "grid_search_result = model.grid_search(params,\n",
    "                                       X=X_res,\n",
    "                                       y=y_res,\n",
    "                                       cv=10,\n",
    "                                       partition_random_seed=42,\n",
    "                                       stratified=True)'''"
   ]
  },
  {
   "cell_type": "code",
   "execution_count": 31,
   "id": "90e0131a",
   "metadata": {
    "execution": {
     "iopub.execute_input": "2022-05-30T19:05:25.929141Z",
     "iopub.status.busy": "2022-05-30T19:05:25.928565Z",
     "iopub.status.idle": "2022-05-30T19:05:25.932695Z",
     "shell.execute_reply": "2022-05-30T19:05:25.931985Z"
    },
    "papermill": {
     "duration": 0.035797,
     "end_time": "2022-05-30T19:05:25.934957",
     "exception": false,
     "start_time": "2022-05-30T19:05:25.899160",
     "status": "completed"
    },
    "tags": []
   },
   "outputs": [],
   "source": [
    "# from sklearn.model_selection import RandomizedSearchCV\n",
    "       \n",
    "# from catboost import CatBoostClassifier"
   ]
  },
  {
   "cell_type": "code",
   "execution_count": 32,
   "id": "d3181120",
   "metadata": {
    "execution": {
     "iopub.execute_input": "2022-05-30T19:05:25.999569Z",
     "iopub.status.busy": "2022-05-30T19:05:25.998606Z",
     "iopub.status.idle": "2022-05-30T19:05:26.004972Z",
     "shell.execute_reply": "2022-05-30T19:05:26.004094Z"
    },
    "papermill": {
     "duration": 0.040563,
     "end_time": "2022-05-30T19:05:26.006988",
     "exception": false,
     "start_time": "2022-05-30T19:05:25.966425",
     "status": "completed"
    },
    "tags": []
   },
   "outputs": [],
   "source": [
    "# model = CatBoostClassifier(random_state=42, task_type='CPU')\n",
    "# params = {'depth':[1,2,3],\n",
    "#           'iterations':[500,1000],\n",
    "#           'learning_rate':[0.01,0.1,0.2,0.3]}\n",
    "\n",
    "# randm = RandomizedSearchCV(estimator=model, \n",
    "#                            param_distributions = params, \n",
    "#                            cv = 10, \n",
    "#                            n_iter = 20, \n",
    "#                            n_jobs=-1, \n",
    "#                            random_state=42,\n",
    "#                            verbose=3)\n",
    "# randm.fit(X_res, y_res)\n",
    "\n",
    "# # Results from Random Search\n",
    "# print(\"\\n========================================================\")\n",
    "# print(\" Results from Random Search \" )\n",
    "# print(\"========================================================\")    \n",
    "\n",
    "# print(\"\\n The best estimator across ALL searched params:\\n\",\n",
    "#       randm.best_estimator_)\n",
    "\n",
    "# print(\"\\n The best score across ALL searched params:\\n\",\n",
    "#       randm.best_score_)\n"
   ]
  },
  {
   "cell_type": "code",
   "execution_count": 33,
   "id": "c9d4ce1c",
   "metadata": {
    "execution": {
     "iopub.execute_input": "2022-05-30T19:05:26.072787Z",
     "iopub.status.busy": "2022-05-30T19:05:26.071779Z",
     "iopub.status.idle": "2022-05-30T19:05:26.077585Z",
     "shell.execute_reply": "2022-05-30T19:05:26.076411Z"
    },
    "papermill": {
     "duration": 0.041212,
     "end_time": "2022-05-30T19:05:26.080368",
     "exception": false,
     "start_time": "2022-05-30T19:05:26.039156",
     "status": "completed"
    },
    "tags": []
   },
   "outputs": [],
   "source": [
    "# randm.best_params_"
   ]
  },
  {
   "cell_type": "code",
   "execution_count": 34,
   "id": "b6295496",
   "metadata": {
    "execution": {
     "iopub.execute_input": "2022-05-30T19:05:26.144371Z",
     "iopub.status.busy": "2022-05-30T19:05:26.143862Z",
     "iopub.status.idle": "2022-05-30T19:05:26.148111Z",
     "shell.execute_reply": "2022-05-30T19:05:26.147043Z"
    },
    "papermill": {
     "duration": 0.03836,
     "end_time": "2022-05-30T19:05:26.150447",
     "exception": false,
     "start_time": "2022-05-30T19:05:26.112087",
     "status": "completed"
    },
    "tags": []
   },
   "outputs": [],
   "source": [
    "# model.fit(X_train, Y_train)"
   ]
  },
  {
   "cell_type": "code",
   "execution_count": 35,
   "id": "c521db61",
   "metadata": {
    "execution": {
     "iopub.execute_input": "2022-05-30T19:05:26.210000Z",
     "iopub.status.busy": "2022-05-30T19:05:26.209590Z",
     "iopub.status.idle": "2022-05-30T19:05:26.213872Z",
     "shell.execute_reply": "2022-05-30T19:05:26.212690Z"
    },
    "papermill": {
     "duration": 0.03595,
     "end_time": "2022-05-30T19:05:26.216138",
     "exception": false,
     "start_time": "2022-05-30T19:05:26.180188",
     "status": "completed"
    },
    "tags": []
   },
   "outputs": [],
   "source": [
    "# # Best hyperparameters from the grid search\n",
    "# grid_search.best_params_"
   ]
  },
  {
   "cell_type": "markdown",
   "id": "03f7be58",
   "metadata": {
    "papermill": {
     "duration": 0.028704,
     "end_time": "2022-05-30T19:05:26.273721",
     "exception": false,
     "start_time": "2022-05-30T19:05:26.245017",
     "status": "completed"
    },
    "tags": []
   },
   "source": [
    "# `06` Finaaaaally Train Our Model\n",
    "\n",
    "## `Using CatBoost`"
   ]
  },
  {
   "cell_type": "code",
   "execution_count": 36,
   "id": "e6a7a809",
   "metadata": {
    "execution": {
     "iopub.execute_input": "2022-05-30T19:05:26.332066Z",
     "iopub.status.busy": "2022-05-30T19:05:26.331153Z",
     "iopub.status.idle": "2022-05-30T19:05:26.976101Z",
     "shell.execute_reply": "2022-05-30T19:05:26.975091Z"
    },
    "papermill": {
     "duration": 0.676891,
     "end_time": "2022-05-30T19:05:26.978727",
     "exception": false,
     "start_time": "2022-05-30T19:05:26.301836",
     "status": "completed"
    },
    "tags": []
   },
   "outputs": [],
   "source": [
    "from catboost import CatBoostClassifier \n",
    "from sklearn.metrics import f1_score"
   ]
  },
  {
   "cell_type": "code",
   "execution_count": 37,
   "id": "94eae2d1",
   "metadata": {
    "execution": {
     "iopub.execute_input": "2022-05-30T19:05:27.037455Z",
     "iopub.status.busy": "2022-05-30T19:05:27.037019Z",
     "iopub.status.idle": "2022-05-30T19:05:27.042044Z",
     "shell.execute_reply": "2022-05-30T19:05:27.040873Z"
    },
    "papermill": {
     "duration": 0.03778,
     "end_time": "2022-05-30T19:05:27.044615",
     "exception": false,
     "start_time": "2022-05-30T19:05:27.006835",
     "status": "completed"
    },
    "tags": []
   },
   "outputs": [],
   "source": [
    "# # class_wghts = {\n",
    "# #                0: 1,\n",
    "# #                1: 1,\n",
    "# #                2: 1,\n",
    "# #                3: 0.7,\n",
    "# #                4: 1,\n",
    "# #                5: 1,\n",
    "#             #    6: 0.7}\n",
    "# class_wghts = {0: 0.9,\n",
    "#                1: 1.,\n",
    "#                2: 0.8,\n",
    "#                3: 0.4,\n",
    "#                4: 0.7,\n",
    "#                5: 0.6,\n",
    "#                6: 0.5}"
   ]
  },
  {
   "cell_type": "code",
   "execution_count": 38,
   "id": "06e6e963",
   "metadata": {
    "execution": {
     "iopub.execute_input": "2022-05-30T19:05:27.103153Z",
     "iopub.status.busy": "2022-05-30T19:05:27.102706Z",
     "iopub.status.idle": "2022-05-30T19:05:33.688738Z",
     "shell.execute_reply": "2022-05-30T19:05:33.687785Z"
    },
    "papermill": {
     "duration": 6.618392,
     "end_time": "2022-05-30T19:05:33.691254",
     "exception": false,
     "start_time": "2022-05-30T19:05:27.072862",
     "status": "completed"
    },
    "tags": []
   },
   "outputs": [],
   "source": [
    "# 40 47 # iterations=1000, task_type=\"CPU\", learning_rate=0.03, random_state=9, depth=3\n",
    "\n",
    "cat = CatBoostClassifier(iterations=1000, task_type=\"CPU\", learning_rate=0.1, random_state=9, depth=2).fit(X_train, y_train, verbose=False)\n",
    "y_pred_cat = cat.predict(X_test)"
   ]
  },
  {
   "cell_type": "markdown",
   "id": "a9a608c4",
   "metadata": {
    "papermill": {
     "duration": 0.028275,
     "end_time": "2022-05-30T19:05:33.748104",
     "exception": false,
     "start_time": "2022-05-30T19:05:33.719829",
     "status": "completed"
    },
    "tags": []
   },
   "source": [
    "### Train Data Evaluation"
   ]
  },
  {
   "cell_type": "code",
   "execution_count": 39,
   "id": "3ef0b9ed",
   "metadata": {
    "execution": {
     "iopub.execute_input": "2022-05-30T19:05:33.807842Z",
     "iopub.status.busy": "2022-05-30T19:05:33.807398Z",
     "iopub.status.idle": "2022-05-30T19:05:33.884461Z",
     "shell.execute_reply": "2022-05-30T19:05:33.883311Z"
    },
    "papermill": {
     "duration": 0.109557,
     "end_time": "2022-05-30T19:05:33.887068",
     "exception": false,
     "start_time": "2022-05-30T19:05:33.777511",
     "status": "completed"
    },
    "tags": []
   },
   "outputs": [
    {
     "data": {
      "text/html": [
       "<div>\n",
       "<style scoped>\n",
       "    .dataframe tbody tr th:only-of-type {\n",
       "        vertical-align: middle;\n",
       "    }\n",
       "\n",
       "    .dataframe tbody tr th {\n",
       "        vertical-align: top;\n",
       "    }\n",
       "\n",
       "    .dataframe thead th {\n",
       "        text-align: right;\n",
       "    }\n",
       "</style>\n",
       "<table border=\"1\" class=\"dataframe\">\n",
       "  <thead>\n",
       "    <tr style=\"text-align: right;\">\n",
       "      <th></th>\n",
       "      <th>precision</th>\n",
       "      <th>recall</th>\n",
       "      <th>f1-score</th>\n",
       "      <th>support</th>\n",
       "    </tr>\n",
       "  </thead>\n",
       "  <tbody>\n",
       "    <tr>\n",
       "      <th>0</th>\n",
       "      <td>0.969079</td>\n",
       "      <td>0.958360</td>\n",
       "      <td>0.963690</td>\n",
       "      <td>1537.000000</td>\n",
       "    </tr>\n",
       "    <tr>\n",
       "      <th>1</th>\n",
       "      <td>1.000000</td>\n",
       "      <td>1.000000</td>\n",
       "      <td>1.000000</td>\n",
       "      <td>1526.000000</td>\n",
       "    </tr>\n",
       "    <tr>\n",
       "      <th>2</th>\n",
       "      <td>0.959921</td>\n",
       "      <td>0.959291</td>\n",
       "      <td>0.959606</td>\n",
       "      <td>1523.000000</td>\n",
       "    </tr>\n",
       "    <tr>\n",
       "      <th>3</th>\n",
       "      <td>0.931347</td>\n",
       "      <td>0.932555</td>\n",
       "      <td>0.931951</td>\n",
       "      <td>1542.000000</td>\n",
       "    </tr>\n",
       "    <tr>\n",
       "      <th>4</th>\n",
       "      <td>0.974206</td>\n",
       "      <td>0.969079</td>\n",
       "      <td>0.971636</td>\n",
       "      <td>1520.000000</td>\n",
       "    </tr>\n",
       "    <tr>\n",
       "      <th>5</th>\n",
       "      <td>0.967953</td>\n",
       "      <td>0.969856</td>\n",
       "      <td>0.968903</td>\n",
       "      <td>1526.000000</td>\n",
       "    </tr>\n",
       "    <tr>\n",
       "      <th>6</th>\n",
       "      <td>0.903661</td>\n",
       "      <td>0.916016</td>\n",
       "      <td>0.909796</td>\n",
       "      <td>1536.000000</td>\n",
       "    </tr>\n",
       "    <tr>\n",
       "      <th>accuracy</th>\n",
       "      <td>0.957796</td>\n",
       "      <td>0.957796</td>\n",
       "      <td>0.957796</td>\n",
       "      <td>0.957796</td>\n",
       "    </tr>\n",
       "    <tr>\n",
       "      <th>macro avg</th>\n",
       "      <td>0.958024</td>\n",
       "      <td>0.957880</td>\n",
       "      <td>0.957940</td>\n",
       "      <td>10710.000000</td>\n",
       "    </tr>\n",
       "    <tr>\n",
       "      <th>weighted avg</th>\n",
       "      <td>0.957935</td>\n",
       "      <td>0.957796</td>\n",
       "      <td>0.957854</td>\n",
       "      <td>10710.000000</td>\n",
       "    </tr>\n",
       "  </tbody>\n",
       "</table>\n",
       "</div>"
      ],
      "text/plain": [
       "              precision    recall  f1-score       support\n",
       "0              0.969079  0.958360  0.963690   1537.000000\n",
       "1              1.000000  1.000000  1.000000   1526.000000\n",
       "2              0.959921  0.959291  0.959606   1523.000000\n",
       "3              0.931347  0.932555  0.931951   1542.000000\n",
       "4              0.974206  0.969079  0.971636   1520.000000\n",
       "5              0.967953  0.969856  0.968903   1526.000000\n",
       "6              0.903661  0.916016  0.909796   1536.000000\n",
       "accuracy       0.957796  0.957796  0.957796      0.957796\n",
       "macro avg      0.958024  0.957880  0.957940  10710.000000\n",
       "weighted avg   0.957935  0.957796  0.957854  10710.000000"
      ]
     },
     "execution_count": 39,
     "metadata": {},
     "output_type": "execute_result"
    }
   ],
   "source": [
    "train_preds = cat.predict(X_train)\n",
    "report_cb = classification_report(y_train, train_preds, output_dict=True)\n",
    "report = pd.DataFrame(report_cb).transpose()\n",
    "report\n",
    "#({0: 'BARBUNYA', 1: 'BOMBAY', 2: 'CALI', 3: 'DERMASON', 4: 'HOROZ', 5: 'SEKER', 6: 'SIRA'})"
   ]
  },
  {
   "cell_type": "code",
   "execution_count": 40,
   "id": "fd8c0ddc",
   "metadata": {
    "execution": {
     "iopub.execute_input": "2022-05-30T19:05:33.946330Z",
     "iopub.status.busy": "2022-05-30T19:05:33.945919Z",
     "iopub.status.idle": "2022-05-30T19:05:34.424158Z",
     "shell.execute_reply": "2022-05-30T19:05:34.423337Z"
    },
    "papermill": {
     "duration": 0.510503,
     "end_time": "2022-05-30T19:05:34.426168",
     "exception": false,
     "start_time": "2022-05-30T19:05:33.915665",
     "status": "completed"
    },
    "tags": []
   },
   "outputs": [
    {
     "name": "stderr",
     "output_type": "stream",
     "text": [
      "/opt/conda/lib/python3.7/site-packages/sklearn/utils/deprecation.py:87: FutureWarning: Function plot_confusion_matrix is deprecated; Function `plot_confusion_matrix` is deprecated in 1.0 and will be removed in 1.2. Use one of the class methods: ConfusionMatrixDisplay.from_predictions or ConfusionMatrixDisplay.from_estimator.\n",
      "  warnings.warn(msg, category=FutureWarning)\n"
     ]
    },
    {
     "data": {
      "image/png": "[encoded data removed]",
      "text/plain": [
       "<Figure size 720x720 with 2 Axes>"
      ]
     },
     "metadata": {
      "needs_background": "light"
     },
     "output_type": "display_data"
    }
   ],
   "source": [
    "fig, ax = plt.subplots(figsize=(10, 10))\n",
    "plot_confusion_matrix(cat, X_train, y_train,ax=ax,cmap='Blues')  \n",
    "plt.xticks(rotation=30)\n",
    "plt.title('Catboost Confusion Matrix')\n",
    "plt.show() "
   ]
  },
  {
   "cell_type": "markdown",
   "id": "9aef4a10",
   "metadata": {
    "papermill": {
     "duration": 0.029054,
     "end_time": "2022-05-30T19:05:34.484834",
     "exception": false,
     "start_time": "2022-05-30T19:05:34.455780",
     "status": "completed"
    },
    "tags": []
   },
   "source": [
    "### Validation Data Evaluation"
   ]
  },
  {
   "cell_type": "code",
   "execution_count": 41,
   "id": "ca29d276",
   "metadata": {
    "execution": {
     "iopub.execute_input": "2022-05-30T19:05:34.546485Z",
     "iopub.status.busy": "2022-05-30T19:05:34.545822Z",
     "iopub.status.idle": "2022-05-30T19:05:34.575843Z",
     "shell.execute_reply": "2022-05-30T19:05:34.574845Z"
    },
    "papermill": {
     "duration": 0.063551,
     "end_time": "2022-05-30T19:05:34.578315",
     "exception": false,
     "start_time": "2022-05-30T19:05:34.514764",
     "status": "completed"
    },
    "tags": []
   },
   "outputs": [
    {
     "data": {
      "text/html": [
       "<div>\n",
       "<style scoped>\n",
       "    .dataframe tbody tr th:only-of-type {\n",
       "        vertical-align: middle;\n",
       "    }\n",
       "\n",
       "    .dataframe tbody tr th {\n",
       "        vertical-align: top;\n",
       "    }\n",
       "\n",
       "    .dataframe thead th {\n",
       "        text-align: right;\n",
       "    }\n",
       "</style>\n",
       "<table border=\"1\" class=\"dataframe\">\n",
       "  <thead>\n",
       "    <tr style=\"text-align: right;\">\n",
       "      <th></th>\n",
       "      <th>precision</th>\n",
       "      <th>recall</th>\n",
       "      <th>f1-score</th>\n",
       "      <th>support</th>\n",
       "    </tr>\n",
       "  </thead>\n",
       "  <tbody>\n",
       "    <tr>\n",
       "      <th>0</th>\n",
       "      <td>0.974684</td>\n",
       "      <td>0.944785</td>\n",
       "      <td>0.959502</td>\n",
       "      <td>163.000000</td>\n",
       "    </tr>\n",
       "    <tr>\n",
       "      <th>1</th>\n",
       "      <td>1.000000</td>\n",
       "      <td>1.000000</td>\n",
       "      <td>1.000000</td>\n",
       "      <td>174.000000</td>\n",
       "    </tr>\n",
       "    <tr>\n",
       "      <th>2</th>\n",
       "      <td>0.960674</td>\n",
       "      <td>0.966102</td>\n",
       "      <td>0.963380</td>\n",
       "      <td>177.000000</td>\n",
       "    </tr>\n",
       "    <tr>\n",
       "      <th>3</th>\n",
       "      <td>0.867089</td>\n",
       "      <td>0.867089</td>\n",
       "      <td>0.867089</td>\n",
       "      <td>158.000000</td>\n",
       "    </tr>\n",
       "    <tr>\n",
       "      <th>4</th>\n",
       "      <td>0.976471</td>\n",
       "      <td>0.922222</td>\n",
       "      <td>0.948571</td>\n",
       "      <td>180.000000</td>\n",
       "    </tr>\n",
       "    <tr>\n",
       "      <th>5</th>\n",
       "      <td>0.971264</td>\n",
       "      <td>0.971264</td>\n",
       "      <td>0.971264</td>\n",
       "      <td>174.000000</td>\n",
       "    </tr>\n",
       "    <tr>\n",
       "      <th>6</th>\n",
       "      <td>0.820225</td>\n",
       "      <td>0.890244</td>\n",
       "      <td>0.853801</td>\n",
       "      <td>164.000000</td>\n",
       "    </tr>\n",
       "    <tr>\n",
       "      <th>accuracy</th>\n",
       "      <td>0.938655</td>\n",
       "      <td>0.938655</td>\n",
       "      <td>0.938655</td>\n",
       "      <td>0.938655</td>\n",
       "    </tr>\n",
       "    <tr>\n",
       "      <th>macro avg</th>\n",
       "      <td>0.938629</td>\n",
       "      <td>0.937387</td>\n",
       "      <td>0.937658</td>\n",
       "      <td>1190.000000</td>\n",
       "    </tr>\n",
       "    <tr>\n",
       "      <th>weighted avg</th>\n",
       "      <td>0.940499</td>\n",
       "      <td>0.938655</td>\n",
       "      <td>0.939230</td>\n",
       "      <td>1190.000000</td>\n",
       "    </tr>\n",
       "  </tbody>\n",
       "</table>\n",
       "</div>"
      ],
      "text/plain": [
       "              precision    recall  f1-score      support\n",
       "0              0.974684  0.944785  0.959502   163.000000\n",
       "1              1.000000  1.000000  1.000000   174.000000\n",
       "2              0.960674  0.966102  0.963380   177.000000\n",
       "3              0.867089  0.867089  0.867089   158.000000\n",
       "4              0.976471  0.922222  0.948571   180.000000\n",
       "5              0.971264  0.971264  0.971264   174.000000\n",
       "6              0.820225  0.890244  0.853801   164.000000\n",
       "accuracy       0.938655  0.938655  0.938655     0.938655\n",
       "macro avg      0.938629  0.937387  0.937658  1190.000000\n",
       "weighted avg   0.940499  0.938655  0.939230  1190.000000"
      ]
     },
     "execution_count": 41,
     "metadata": {},
     "output_type": "execute_result"
    }
   ],
   "source": [
    "train_preds = cat.predict(X_test)\n",
    "report_cb = classification_report(y_test, train_preds, output_dict=True)\n",
    "report = pd.DataFrame(report_cb).transpose()\n",
    "report\n",
    "# ({0: 'BARBUNYA', 1: 'BOMBAY', 2: 'CALI', 3: 'DERMASON', 4: 'HOROZ', 5: 'SEKER', 6: 'SIRA'})"
   ]
  },
  {
   "cell_type": "code",
   "execution_count": 42,
   "id": "fe818d42",
   "metadata": {
    "execution": {
     "iopub.execute_input": "2022-05-30T19:05:34.638139Z",
     "iopub.status.busy": "2022-05-30T19:05:34.637760Z",
     "iopub.status.idle": "2022-05-30T19:05:35.094656Z",
     "shell.execute_reply": "2022-05-30T19:05:35.093654Z"
    },
    "papermill": {
     "duration": 0.48934,
     "end_time": "2022-05-30T19:05:35.096906",
     "exception": false,
     "start_time": "2022-05-30T19:05:34.607566",
     "status": "completed"
    },
    "tags": []
   },
   "outputs": [
    {
     "name": "stderr",
     "output_type": "stream",
     "text": [
      "/opt/conda/lib/python3.7/site-packages/sklearn/utils/deprecation.py:87: FutureWarning: Function plot_confusion_matrix is deprecated; Function `plot_confusion_matrix` is deprecated in 1.0 and will be removed in 1.2. Use one of the class methods: ConfusionMatrixDisplay.from_predictions or ConfusionMatrixDisplay.from_estimator.\n",
      "  warnings.warn(msg, category=FutureWarning)\n"
     ]
    },
    {
     "data": {
      "image/png": "[encoded data removed]",
      "text/plain": [
       "<Figure size 720x720 with 2 Axes>"
      ]
     },
     "metadata": {
      "needs_background": "light"
     },
     "output_type": "display_data"
    }
   ],
   "source": [
    "fig, ax = plt.subplots(figsize=(10, 10))\n",
    "plot_confusion_matrix(cat, X_test, y_test,ax=ax,cmap='Blues')  \n",
    "plt.xticks(rotation=30)\n",
    "plt.title('Catboost Confusion Matrix')\n",
    "plt.show() "
   ]
  },
  {
   "cell_type": "markdown",
   "id": "59566940",
   "metadata": {
    "papermill": {
     "duration": 0.029349,
     "end_time": "2022-05-30T19:05:35.156248",
     "exception": false,
     "start_time": "2022-05-30T19:05:35.126899",
     "status": "completed"
    },
    "tags": []
   },
   "source": [
    "# `07` Prepare Test Data"
   ]
  },
  {
   "cell_type": "code",
   "execution_count": 43,
   "id": "6320ce71",
   "metadata": {
    "execution": {
     "iopub.execute_input": "2022-05-30T19:05:35.217574Z",
     "iopub.status.busy": "2022-05-30T19:05:35.217094Z",
     "iopub.status.idle": "2022-05-30T19:05:35.276986Z",
     "shell.execute_reply": "2022-05-30T19:05:35.275969Z"
    },
    "papermill": {
     "duration": 0.09311,
     "end_time": "2022-05-30T19:05:35.279119",
     "exception": false,
     "start_time": "2022-05-30T19:05:35.186009",
     "status": "completed"
    },
    "tags": []
   },
   "outputs": [
    {
     "data": {
      "text/html": [
       "<div>\n",
       "<style scoped>\n",
       "    .dataframe tbody tr th:only-of-type {\n",
       "        vertical-align: middle;\n",
       "    }\n",
       "\n",
       "    .dataframe tbody tr th {\n",
       "        vertical-align: top;\n",
       "    }\n",
       "\n",
       "    .dataframe thead th {\n",
       "        text-align: right;\n",
       "    }\n",
       "</style>\n",
       "<table border=\"1\" class=\"dataframe\">\n",
       "  <thead>\n",
       "    <tr style=\"text-align: right;\">\n",
       "      <th></th>\n",
       "      <th>ID</th>\n",
       "      <th>Area</th>\n",
       "      <th>Perimeter</th>\n",
       "      <th>MajorAxisLength</th>\n",
       "      <th>MinorAxisLength</th>\n",
       "      <th>AspectRation</th>\n",
       "      <th>Eccentricity</th>\n",
       "      <th>ConvexArea</th>\n",
       "      <th>EquivDiameter</th>\n",
       "      <th>Extent</th>\n",
       "      <th>Solidity</th>\n",
       "      <th>roundness</th>\n",
       "      <th>Compactness</th>\n",
       "      <th>ShapeFactor1</th>\n",
       "      <th>ShapeFactor2</th>\n",
       "      <th>ShapeFactor3</th>\n",
       "      <th>ShapeFactor4</th>\n",
       "    </tr>\n",
       "  </thead>\n",
       "  <tbody>\n",
       "    <tr>\n",
       "      <th>10834</th>\n",
       "      <td>10834</td>\n",
       "      <td>57659</td>\n",
       "      <td>955.434</td>\n",
       "      <td>387.757607</td>\n",
       "      <td>196.625782</td>\n",
       "      <td>1.972059</td>\n",
       "      <td>0.861896</td>\n",
       "      <td>60188</td>\n",
       "      <td>270.949661</td>\n",
       "      <td>0.620790</td>\n",
       "      <td>0.957982</td>\n",
       "      <td>0.793735</td>\n",
       "      <td>0.698760</td>\n",
       "      <td>0.006725</td>\n",
       "      <td>0.000989</td>\n",
       "      <td>0.488266</td>\n",
       "      <td>0.962889</td>\n",
       "    </tr>\n",
       "    <tr>\n",
       "      <th>10835</th>\n",
       "      <td>10835</td>\n",
       "      <td>28772</td>\n",
       "      <td>630.362</td>\n",
       "      <td>229.990785</td>\n",
       "      <td>159.609367</td>\n",
       "      <td>1.440960</td>\n",
       "      <td>0.719993</td>\n",
       "      <td>29127</td>\n",
       "      <td>191.399185</td>\n",
       "      <td>0.767458</td>\n",
       "      <td>0.987812</td>\n",
       "      <td>0.909913</td>\n",
       "      <td>0.832204</td>\n",
       "      <td>0.007994</td>\n",
       "      <td>0.002365</td>\n",
       "      <td>0.692563</td>\n",
       "      <td>0.997956</td>\n",
       "    </tr>\n",
       "    <tr>\n",
       "      <th>10836</th>\n",
       "      <td>10836</td>\n",
       "      <td>54677</td>\n",
       "      <td>911.022</td>\n",
       "      <td>308.853903</td>\n",
       "      <td>226.398571</td>\n",
       "      <td>1.364204</td>\n",
       "      <td>0.680198</td>\n",
       "      <td>55858</td>\n",
       "      <td>263.850182</td>\n",
       "      <td>0.753013</td>\n",
       "      <td>0.978857</td>\n",
       "      <td>0.827860</td>\n",
       "      <td>0.854288</td>\n",
       "      <td>0.005649</td>\n",
       "      <td>0.001856</td>\n",
       "      <td>0.729808</td>\n",
       "      <td>0.995607</td>\n",
       "    </tr>\n",
       "    <tr>\n",
       "      <th>10837</th>\n",
       "      <td>10837</td>\n",
       "      <td>24827</td>\n",
       "      <td>578.304</td>\n",
       "      <td>214.192699</td>\n",
       "      <td>147.788172</td>\n",
       "      <td>1.449322</td>\n",
       "      <td>0.723831</td>\n",
       "      <td>25121</td>\n",
       "      <td>177.794033</td>\n",
       "      <td>0.716508</td>\n",
       "      <td>0.988297</td>\n",
       "      <td>0.932871</td>\n",
       "      <td>0.830066</td>\n",
       "      <td>0.008627</td>\n",
       "      <td>0.002526</td>\n",
       "      <td>0.689009</td>\n",
       "      <td>0.998596</td>\n",
       "    </tr>\n",
       "    <tr>\n",
       "      <th>10838</th>\n",
       "      <td>10838</td>\n",
       "      <td>141850</td>\n",
       "      <td>1432.847</td>\n",
       "      <td>524.923471</td>\n",
       "      <td>346.910920</td>\n",
       "      <td>1.513136</td>\n",
       "      <td>0.750492</td>\n",
       "      <td>143680</td>\n",
       "      <td>424.981211</td>\n",
       "      <td>0.804617</td>\n",
       "      <td>0.987263</td>\n",
       "      <td>0.868240</td>\n",
       "      <td>0.809606</td>\n",
       "      <td>0.003701</td>\n",
       "      <td>0.000981</td>\n",
       "      <td>0.655462</td>\n",
       "      <td>0.991803</td>\n",
       "    </tr>\n",
       "    <tr>\n",
       "      <th>...</th>\n",
       "      <td>...</td>\n",
       "      <td>...</td>\n",
       "      <td>...</td>\n",
       "      <td>...</td>\n",
       "      <td>...</td>\n",
       "      <td>...</td>\n",
       "      <td>...</td>\n",
       "      <td>...</td>\n",
       "      <td>...</td>\n",
       "      <td>...</td>\n",
       "      <td>...</td>\n",
       "      <td>...</td>\n",
       "      <td>...</td>\n",
       "      <td>...</td>\n",
       "      <td>...</td>\n",
       "      <td>...</td>\n",
       "      <td>...</td>\n",
       "    </tr>\n",
       "    <tr>\n",
       "      <th>13538</th>\n",
       "      <td>13538</td>\n",
       "      <td>66833</td>\n",
       "      <td>1018.336</td>\n",
       "      <td>400.397077</td>\n",
       "      <td>214.346215</td>\n",
       "      <td>1.867992</td>\n",
       "      <td>0.844640</td>\n",
       "      <td>67787</td>\n",
       "      <td>291.709476</td>\n",
       "      <td>0.759604</td>\n",
       "      <td>0.985927</td>\n",
       "      <td>0.809876</td>\n",
       "      <td>0.728550</td>\n",
       "      <td>0.005991</td>\n",
       "      <td>0.001041</td>\n",
       "      <td>0.530786</td>\n",
       "      <td>0.991504</td>\n",
       "    </tr>\n",
       "    <tr>\n",
       "      <th>13539</th>\n",
       "      <td>13539</td>\n",
       "      <td>40572</td>\n",
       "      <td>725.331</td>\n",
       "      <td>250.714014</td>\n",
       "      <td>206.471935</td>\n",
       "      <td>1.214276</td>\n",
       "      <td>0.567264</td>\n",
       "      <td>40900</td>\n",
       "      <td>227.283688</td>\n",
       "      <td>0.767479</td>\n",
       "      <td>0.991980</td>\n",
       "      <td>0.969089</td>\n",
       "      <td>0.906546</td>\n",
       "      <td>0.006179</td>\n",
       "      <td>0.002574</td>\n",
       "      <td>0.821825</td>\n",
       "      <td>0.997923</td>\n",
       "    </tr>\n",
       "    <tr>\n",
       "      <th>13540</th>\n",
       "      <td>13540</td>\n",
       "      <td>61226</td>\n",
       "      <td>1008.378</td>\n",
       "      <td>408.227467</td>\n",
       "      <td>199.385082</td>\n",
       "      <td>2.047432</td>\n",
       "      <td>0.872611</td>\n",
       "      <td>63901</td>\n",
       "      <td>279.204879</td>\n",
       "      <td>0.611648</td>\n",
       "      <td>0.958138</td>\n",
       "      <td>0.756657</td>\n",
       "      <td>0.683944</td>\n",
       "      <td>0.006668</td>\n",
       "      <td>0.000900</td>\n",
       "      <td>0.467780</td>\n",
       "      <td>0.957748</td>\n",
       "    </tr>\n",
       "    <tr>\n",
       "      <th>13541</th>\n",
       "      <td>13541</td>\n",
       "      <td>34238</td>\n",
       "      <td>698.847</td>\n",
       "      <td>255.829224</td>\n",
       "      <td>170.867099</td>\n",
       "      <td>1.497241</td>\n",
       "      <td>0.744255</td>\n",
       "      <td>34724</td>\n",
       "      <td>208.789788</td>\n",
       "      <td>0.724890</td>\n",
       "      <td>0.986004</td>\n",
       "      <td>0.880956</td>\n",
       "      <td>0.816130</td>\n",
       "      <td>0.007472</td>\n",
       "      <td>0.002045</td>\n",
       "      <td>0.666067</td>\n",
       "      <td>0.997263</td>\n",
       "    </tr>\n",
       "    <tr>\n",
       "      <th>13542</th>\n",
       "      <td>13542</td>\n",
       "      <td>49175</td>\n",
       "      <td>828.597</td>\n",
       "      <td>310.354804</td>\n",
       "      <td>202.329323</td>\n",
       "      <td>1.533909</td>\n",
       "      <td>0.758280</td>\n",
       "      <td>49668</td>\n",
       "      <td>250.223010</td>\n",
       "      <td>0.798166</td>\n",
       "      <td>0.990074</td>\n",
       "      <td>0.900052</td>\n",
       "      <td>0.806248</td>\n",
       "      <td>0.006311</td>\n",
       "      <td>0.001645</td>\n",
       "      <td>0.650036</td>\n",
       "      <td>0.997096</td>\n",
       "    </tr>\n",
       "  </tbody>\n",
       "</table>\n",
       "<p>2709 rows × 17 columns</p>\n",
       "</div>"
      ],
      "text/plain": [
       "          ID    Area  Perimeter  MajorAxisLength  MinorAxisLength  \\\n",
       "10834  10834   57659    955.434       387.757607       196.625782   \n",
       "10835  10835   28772    630.362       229.990785       159.609367   \n",
       "10836  10836   54677    911.022       308.853903       226.398571   \n",
       "10837  10837   24827    578.304       214.192699       147.788172   \n",
       "10838  10838  141850   1432.847       524.923471       346.910920   \n",
       "...      ...     ...        ...              ...              ...   \n",
       "13538  13538   66833   1018.336       400.397077       214.346215   \n",
       "13539  13539   40572    725.331       250.714014       206.471935   \n",
       "13540  13540   61226   1008.378       408.227467       199.385082   \n",
       "13541  13541   34238    698.847       255.829224       170.867099   \n",
       "13542  13542   49175    828.597       310.354804       202.329323   \n",
       "\n",
       "       AspectRation  Eccentricity  ConvexArea  EquivDiameter    Extent  \\\n",
       "10834      1.972059      0.861896       60188     270.949661  0.620790   \n",
       "10835      1.440960      0.719993       29127     191.399185  0.767458   \n",
       "10836      1.364204      0.680198       55858     263.850182  0.753013   \n",
       "10837      1.449322      0.723831       25121     177.794033  0.716508   \n",
       "10838      1.513136      0.750492      143680     424.981211  0.804617   \n",
       "...             ...           ...         ...            ...       ...   \n",
       "13538      1.867992      0.844640       67787     291.709476  0.759604   \n",
       "13539      1.214276      0.567264       40900     227.283688  0.767479   \n",
       "13540      2.047432      0.872611       63901     279.204879  0.611648   \n",
       "13541      1.497241      0.744255       34724     208.789788  0.724890   \n",
       "13542      1.533909      0.758280       49668     250.223010  0.798166   \n",
       "\n",
       "       Solidity  roundness  Compactness  ShapeFactor1  ShapeFactor2  \\\n",
       "10834  0.957982   0.793735     0.698760      0.006725      0.000989   \n",
       "10835  0.987812   0.909913     0.832204      0.007994      0.002365   \n",
       "10836  0.978857   0.827860     0.854288      0.005649      0.001856   \n",
       "10837  0.988297   0.932871     0.830066      0.008627      0.002526   \n",
       "10838  0.987263   0.868240     0.809606      0.003701      0.000981   \n",
       "...         ...        ...          ...           ...           ...   \n",
       "13538  0.985927   0.809876     0.728550      0.005991      0.001041   \n",
       "13539  0.991980   0.969089     0.906546      0.006179      0.002574   \n",
       "13540  0.958138   0.756657     0.683944      0.006668      0.000900   \n",
       "13541  0.986004   0.880956     0.816130      0.007472      0.002045   \n",
       "13542  0.990074   0.900052     0.806248      0.006311      0.001645   \n",
       "\n",
       "       ShapeFactor3  ShapeFactor4  \n",
       "10834      0.488266      0.962889  \n",
       "10835      0.692563      0.997956  \n",
       "10836      0.729808      0.995607  \n",
       "10837      0.689009      0.998596  \n",
       "10838      0.655462      0.991803  \n",
       "...             ...           ...  \n",
       "13538      0.530786      0.991504  \n",
       "13539      0.821825      0.997923  \n",
       "13540      0.467780      0.957748  \n",
       "13541      0.666067      0.997263  \n",
       "13542      0.650036      0.997096  \n",
       "\n",
       "[2709 rows x 17 columns]"
      ]
     },
     "execution_count": 43,
     "metadata": {},
     "output_type": "execute_result"
    }
   ],
   "source": [
    "test_df = pd.read_csv('../input/dry-beans-classification-iti-ai-pro-intake02/test.csv').set_index('ID', drop=False)\n",
    "\n",
    "test_df = test_df.rename_axis(None)\n",
    "\n",
    "test_df"
   ]
  },
  {
   "cell_type": "markdown",
   "id": "001f5ae6",
   "metadata": {
    "papermill": {
     "duration": 0.029733,
     "end_time": "2022-05-30T19:05:35.338846",
     "exception": false,
     "start_time": "2022-05-30T19:05:35.309113",
     "status": "completed"
    },
    "tags": []
   },
   "source": [
    "### `7.1` Handling outliers in test data"
   ]
  },
  {
   "cell_type": "code",
   "execution_count": 44,
   "id": "fc65ee12",
   "metadata": {
    "execution": {
     "iopub.execute_input": "2022-05-30T19:05:35.400005Z",
     "iopub.status.busy": "2022-05-30T19:05:35.399550Z",
     "iopub.status.idle": "2022-05-30T19:05:35.418827Z",
     "shell.execute_reply": "2022-05-30T19:05:35.417901Z"
    },
    "papermill": {
     "duration": 0.052885,
     "end_time": "2022-05-30T19:05:35.421473",
     "exception": false,
     "start_time": "2022-05-30T19:05:35.368588",
     "status": "completed"
    },
    "tags": []
   },
   "outputs": [],
   "source": [
    "# Removing outliers\n",
    "indeces_dict_test = {}\n",
    "for feature in ['EquivDiameter', 'Perimeter', 'MajorAxisLength', 'AspectRation', 'Extent', 'ShapeFactor3', 'Eccentricity']:\n",
    "   \n",
    "    current_feature = test_df[feature]\n",
    "    \n",
    "    upper_bound, lower_bound = handle_outliers_fit(df, feature, 1.5)\n",
    "    \n",
    "    # Outliers indeces\n",
    "    outliers_test = test_df[((current_feature > upper_bound) | (current_feature < lower_bound))] #.index\n",
    "    outliers_id_test = outliers_test.index\n",
    "    indeces_dict_test.update({feature: outliers_id_test})\n",
    "\n"
   ]
  },
  {
   "cell_type": "code",
   "execution_count": 45,
   "id": "fedb8556",
   "metadata": {
    "execution": {
     "iopub.execute_input": "2022-05-30T19:05:35.484889Z",
     "iopub.status.busy": "2022-05-30T19:05:35.484481Z",
     "iopub.status.idle": "2022-05-30T19:05:35.492975Z",
     "shell.execute_reply": "2022-05-30T19:05:35.491890Z"
    },
    "papermill": {
     "duration": 0.042182,
     "end_time": "2022-05-30T19:05:35.494948",
     "exception": false,
     "start_time": "2022-05-30T19:05:35.452766",
     "status": "completed"
    },
    "tags": []
   },
   "outputs": [],
   "source": [
    "# Extra features for splitting outliers\n",
    "'''\n",
    "EquivDiameter: 1\n",
    "Perimeter: 1\n",
    "MajorAxisLength: 1\n",
    "\n",
    "AspectRation: 4\n",
    "Extent: 4\n",
    "\n",
    "ShapeFactor3: 5\n",
    "Eccentricity: 5\n",
    "\n",
    "'''\n",
    "\n",
    "indeces_outliers_class_1_test = [set(indeces_dict_test['EquivDiameter'].to_list()), \n",
    "                                 set(indeces_dict_test['Perimeter'].to_list()), \n",
    "                                 set(indeces_dict_test['MajorAxisLength'].to_list())]\n",
    "\n",
    "indeces_outliers_class_4_test = [set(indeces_dict_test['AspectRation'].to_list()), \n",
    "                                set(indeces_dict_test['Extent'].to_list())]\n",
    "\n",
    "indeces_outliers_class_5_test = [set(indeces_dict_test['ShapeFactor3'].to_list()), \n",
    "                                 set(indeces_dict_test['Eccentricity'].to_list())]\n",
    "\n",
    "indeces_outliers_class_1_test = list(set.union(* indeces_outliers_class_1_test))\n",
    "indeces_outliers_class_4_test = list(set.union(* indeces_outliers_class_4_test))\n",
    "indeces_outliers_class_5_test = list(set.union(* indeces_outliers_class_5_test))"
   ]
  },
  {
   "cell_type": "code",
   "execution_count": 46,
   "id": "2bdfc728",
   "metadata": {
    "execution": {
     "iopub.execute_input": "2022-05-30T19:05:35.556287Z",
     "iopub.status.busy": "2022-05-30T19:05:35.555828Z",
     "iopub.status.idle": "2022-05-30T19:05:35.582141Z",
     "shell.execute_reply": "2022-05-30T19:05:35.581146Z"
    },
    "papermill": {
     "duration": 0.059462,
     "end_time": "2022-05-30T19:05:35.584220",
     "exception": false,
     "start_time": "2022-05-30T19:05:35.524758",
     "status": "completed"
    },
    "tags": []
   },
   "outputs": [
    {
     "data": {
      "text/html": [
       "<div>\n",
       "<style scoped>\n",
       "    .dataframe tbody tr th:only-of-type {\n",
       "        vertical-align: middle;\n",
       "    }\n",
       "\n",
       "    .dataframe tbody tr th {\n",
       "        vertical-align: top;\n",
       "    }\n",
       "\n",
       "    .dataframe thead th {\n",
       "        text-align: right;\n",
       "    }\n",
       "</style>\n",
       "<table border=\"1\" class=\"dataframe\">\n",
       "  <thead>\n",
       "    <tr style=\"text-align: right;\">\n",
       "      <th></th>\n",
       "      <th>Flag_outliers_1</th>\n",
       "      <th>Flag_outliers_4</th>\n",
       "      <th>Flag_outliers_5</th>\n",
       "    </tr>\n",
       "  </thead>\n",
       "  <tbody>\n",
       "    <tr>\n",
       "      <th>10834</th>\n",
       "      <td>0.0</td>\n",
       "      <td>0.0</td>\n",
       "      <td>0.0</td>\n",
       "    </tr>\n",
       "    <tr>\n",
       "      <th>10835</th>\n",
       "      <td>0.0</td>\n",
       "      <td>0.0</td>\n",
       "      <td>0.0</td>\n",
       "    </tr>\n",
       "    <tr>\n",
       "      <th>10836</th>\n",
       "      <td>0.0</td>\n",
       "      <td>0.0</td>\n",
       "      <td>0.0</td>\n",
       "    </tr>\n",
       "    <tr>\n",
       "      <th>10837</th>\n",
       "      <td>0.0</td>\n",
       "      <td>0.0</td>\n",
       "      <td>0.0</td>\n",
       "    </tr>\n",
       "    <tr>\n",
       "      <th>10838</th>\n",
       "      <td>0.0</td>\n",
       "      <td>0.0</td>\n",
       "      <td>0.0</td>\n",
       "    </tr>\n",
       "    <tr>\n",
       "      <th>...</th>\n",
       "      <td>...</td>\n",
       "      <td>...</td>\n",
       "      <td>...</td>\n",
       "    </tr>\n",
       "    <tr>\n",
       "      <th>13538</th>\n",
       "      <td>0.0</td>\n",
       "      <td>0.0</td>\n",
       "      <td>0.0</td>\n",
       "    </tr>\n",
       "    <tr>\n",
       "      <th>13539</th>\n",
       "      <td>0.0</td>\n",
       "      <td>0.0</td>\n",
       "      <td>0.0</td>\n",
       "    </tr>\n",
       "    <tr>\n",
       "      <th>13540</th>\n",
       "      <td>0.0</td>\n",
       "      <td>0.0</td>\n",
       "      <td>0.0</td>\n",
       "    </tr>\n",
       "    <tr>\n",
       "      <th>13541</th>\n",
       "      <td>0.0</td>\n",
       "      <td>0.0</td>\n",
       "      <td>0.0</td>\n",
       "    </tr>\n",
       "    <tr>\n",
       "      <th>13542</th>\n",
       "      <td>0.0</td>\n",
       "      <td>0.0</td>\n",
       "      <td>0.0</td>\n",
       "    </tr>\n",
       "  </tbody>\n",
       "</table>\n",
       "<p>2709 rows × 3 columns</p>\n",
       "</div>"
      ],
      "text/plain": [
       "       Flag_outliers_1  Flag_outliers_4  Flag_outliers_5\n",
       "10834              0.0              0.0              0.0\n",
       "10835              0.0              0.0              0.0\n",
       "10836              0.0              0.0              0.0\n",
       "10837              0.0              0.0              0.0\n",
       "10838              0.0              0.0              0.0\n",
       "...                ...              ...              ...\n",
       "13538              0.0              0.0              0.0\n",
       "13539              0.0              0.0              0.0\n",
       "13540              0.0              0.0              0.0\n",
       "13541              0.0              0.0              0.0\n",
       "13542              0.0              0.0              0.0\n",
       "\n",
       "[2709 rows x 3 columns]"
      ]
     },
     "execution_count": 46,
     "metadata": {},
     "output_type": "execute_result"
    }
   ],
   "source": [
    "flags_df_test = pd.DataFrame(np.zeros((test_df.shape[0], 3)), columns = ['Flag_outliers_1', 'Flag_outliers_4', 'Flag_outliers_5']) \n",
    "flags_df_test = flags_df_test.merge(test_df['ID'].reset_index().drop(columns='index'), right_index = True, left_index = True, how = 'inner')\n",
    "flags_df_test = flags_df_test.set_index('ID', drop=True).rename_axis(None)\n",
    "flags_df_test"
   ]
  },
  {
   "cell_type": "code",
   "execution_count": 47,
   "id": "68c09e93",
   "metadata": {
    "execution": {
     "iopub.execute_input": "2022-05-30T19:05:35.648580Z",
     "iopub.status.busy": "2022-05-30T19:05:35.648165Z",
     "iopub.status.idle": "2022-05-30T19:05:35.672028Z",
     "shell.execute_reply": "2022-05-30T19:05:35.671054Z"
    },
    "papermill": {
     "duration": 0.058152,
     "end_time": "2022-05-30T19:05:35.674022",
     "exception": false,
     "start_time": "2022-05-30T19:05:35.615870",
     "status": "completed"
    },
    "tags": []
   },
   "outputs": [
    {
     "data": {
      "text/html": [
       "<div>\n",
       "<style scoped>\n",
       "    .dataframe tbody tr th:only-of-type {\n",
       "        vertical-align: middle;\n",
       "    }\n",
       "\n",
       "    .dataframe tbody tr th {\n",
       "        vertical-align: top;\n",
       "    }\n",
       "\n",
       "    .dataframe thead th {\n",
       "        text-align: right;\n",
       "    }\n",
       "</style>\n",
       "<table border=\"1\" class=\"dataframe\">\n",
       "  <thead>\n",
       "    <tr style=\"text-align: right;\">\n",
       "      <th></th>\n",
       "      <th>Flag_outliers_1</th>\n",
       "      <th>Flag_outliers_4</th>\n",
       "      <th>Flag_outliers_5</th>\n",
       "    </tr>\n",
       "  </thead>\n",
       "  <tbody>\n",
       "    <tr>\n",
       "      <th>10834</th>\n",
       "      <td>0.0</td>\n",
       "      <td>0.0</td>\n",
       "      <td>0.0</td>\n",
       "    </tr>\n",
       "    <tr>\n",
       "      <th>10835</th>\n",
       "      <td>0.0</td>\n",
       "      <td>0.0</td>\n",
       "      <td>0.0</td>\n",
       "    </tr>\n",
       "    <tr>\n",
       "      <th>10836</th>\n",
       "      <td>0.0</td>\n",
       "      <td>0.0</td>\n",
       "      <td>0.0</td>\n",
       "    </tr>\n",
       "    <tr>\n",
       "      <th>10837</th>\n",
       "      <td>0.0</td>\n",
       "      <td>0.0</td>\n",
       "      <td>0.0</td>\n",
       "    </tr>\n",
       "    <tr>\n",
       "      <th>10838</th>\n",
       "      <td>1.0</td>\n",
       "      <td>0.0</td>\n",
       "      <td>0.0</td>\n",
       "    </tr>\n",
       "    <tr>\n",
       "      <th>...</th>\n",
       "      <td>...</td>\n",
       "      <td>...</td>\n",
       "      <td>...</td>\n",
       "    </tr>\n",
       "    <tr>\n",
       "      <th>13538</th>\n",
       "      <td>0.0</td>\n",
       "      <td>0.0</td>\n",
       "      <td>0.0</td>\n",
       "    </tr>\n",
       "    <tr>\n",
       "      <th>13539</th>\n",
       "      <td>0.0</td>\n",
       "      <td>0.0</td>\n",
       "      <td>1.0</td>\n",
       "    </tr>\n",
       "    <tr>\n",
       "      <th>13540</th>\n",
       "      <td>0.0</td>\n",
       "      <td>1.0</td>\n",
       "      <td>0.0</td>\n",
       "    </tr>\n",
       "    <tr>\n",
       "      <th>13541</th>\n",
       "      <td>0.0</td>\n",
       "      <td>0.0</td>\n",
       "      <td>0.0</td>\n",
       "    </tr>\n",
       "    <tr>\n",
       "      <th>13542</th>\n",
       "      <td>0.0</td>\n",
       "      <td>0.0</td>\n",
       "      <td>0.0</td>\n",
       "    </tr>\n",
       "  </tbody>\n",
       "</table>\n",
       "<p>2709 rows × 3 columns</p>\n",
       "</div>"
      ],
      "text/plain": [
       "       Flag_outliers_1  Flag_outliers_4  Flag_outliers_5\n",
       "10834              0.0              0.0              0.0\n",
       "10835              0.0              0.0              0.0\n",
       "10836              0.0              0.0              0.0\n",
       "10837              0.0              0.0              0.0\n",
       "10838              1.0              0.0              0.0\n",
       "...                ...              ...              ...\n",
       "13538              0.0              0.0              0.0\n",
       "13539              0.0              0.0              1.0\n",
       "13540              0.0              1.0              0.0\n",
       "13541              0.0              0.0              0.0\n",
       "13542              0.0              0.0              0.0\n",
       "\n",
       "[2709 rows x 3 columns]"
      ]
     },
     "execution_count": 47,
     "metadata": {},
     "output_type": "execute_result"
    }
   ],
   "source": [
    "for Id in indeces_outliers_class_1_test:\n",
    "    flags_df_test.at[Id, 'Flag_outliers_1'] = 1.0\n",
    "    \n",
    "for Id in indeces_outliers_class_4_test:\n",
    "    flags_df_test.at[Id, 'Flag_outliers_4'] = 1.0\n",
    "    \n",
    "for Id in indeces_outliers_class_5_test:\n",
    "    flags_df_test.at[Id, 'Flag_outliers_5'] = 1.0\n",
    "\n",
    "flags_df_test"
   ]
  },
  {
   "cell_type": "code",
   "execution_count": 48,
   "id": "167ac60b",
   "metadata": {
    "execution": {
     "iopub.execute_input": "2022-05-30T19:05:35.737329Z",
     "iopub.status.busy": "2022-05-30T19:05:35.736738Z",
     "iopub.status.idle": "2022-05-30T19:05:35.770448Z",
     "shell.execute_reply": "2022-05-30T19:05:35.769471Z"
    },
    "papermill": {
     "duration": 0.068021,
     "end_time": "2022-05-30T19:05:35.772667",
     "exception": false,
     "start_time": "2022-05-30T19:05:35.704646",
     "status": "completed"
    },
    "scrolled": true,
    "tags": []
   },
   "outputs": [
    {
     "data": {
      "text/html": [
       "<div>\n",
       "<style scoped>\n",
       "    .dataframe tbody tr th:only-of-type {\n",
       "        vertical-align: middle;\n",
       "    }\n",
       "\n",
       "    .dataframe tbody tr th {\n",
       "        vertical-align: top;\n",
       "    }\n",
       "\n",
       "    .dataframe thead th {\n",
       "        text-align: right;\n",
       "    }\n",
       "</style>\n",
       "<table border=\"1\" class=\"dataframe\">\n",
       "  <thead>\n",
       "    <tr style=\"text-align: right;\">\n",
       "      <th></th>\n",
       "      <th>ID</th>\n",
       "      <th>Area</th>\n",
       "      <th>Perimeter</th>\n",
       "      <th>MajorAxisLength</th>\n",
       "      <th>MinorAxisLength</th>\n",
       "      <th>AspectRation</th>\n",
       "      <th>Eccentricity</th>\n",
       "      <th>ConvexArea</th>\n",
       "      <th>EquivDiameter</th>\n",
       "      <th>Extent</th>\n",
       "      <th>Solidity</th>\n",
       "      <th>roundness</th>\n",
       "      <th>Compactness</th>\n",
       "      <th>ShapeFactor1</th>\n",
       "      <th>ShapeFactor2</th>\n",
       "      <th>ShapeFactor3</th>\n",
       "      <th>ShapeFactor4</th>\n",
       "      <th>Flag_outliers_1</th>\n",
       "      <th>Flag_outliers_4</th>\n",
       "      <th>Flag_outliers_5</th>\n",
       "    </tr>\n",
       "  </thead>\n",
       "  <tbody>\n",
       "    <tr>\n",
       "      <th>10834</th>\n",
       "      <td>10834</td>\n",
       "      <td>57659</td>\n",
       "      <td>955.434</td>\n",
       "      <td>387.757607</td>\n",
       "      <td>196.625782</td>\n",
       "      <td>1.972059</td>\n",
       "      <td>0.861896</td>\n",
       "      <td>60188</td>\n",
       "      <td>270.949661</td>\n",
       "      <td>0.620790</td>\n",
       "      <td>0.957982</td>\n",
       "      <td>0.793735</td>\n",
       "      <td>0.698760</td>\n",
       "      <td>0.006725</td>\n",
       "      <td>0.000989</td>\n",
       "      <td>0.488266</td>\n",
       "      <td>0.962889</td>\n",
       "      <td>0.0</td>\n",
       "      <td>0.0</td>\n",
       "      <td>0.0</td>\n",
       "    </tr>\n",
       "    <tr>\n",
       "      <th>10835</th>\n",
       "      <td>10835</td>\n",
       "      <td>28772</td>\n",
       "      <td>630.362</td>\n",
       "      <td>229.990785</td>\n",
       "      <td>159.609367</td>\n",
       "      <td>1.440960</td>\n",
       "      <td>0.719993</td>\n",
       "      <td>29127</td>\n",
       "      <td>191.399185</td>\n",
       "      <td>0.767458</td>\n",
       "      <td>0.987812</td>\n",
       "      <td>0.909913</td>\n",
       "      <td>0.832204</td>\n",
       "      <td>0.007994</td>\n",
       "      <td>0.002365</td>\n",
       "      <td>0.692563</td>\n",
       "      <td>0.997956</td>\n",
       "      <td>0.0</td>\n",
       "      <td>0.0</td>\n",
       "      <td>0.0</td>\n",
       "    </tr>\n",
       "    <tr>\n",
       "      <th>10836</th>\n",
       "      <td>10836</td>\n",
       "      <td>54677</td>\n",
       "      <td>911.022</td>\n",
       "      <td>308.853903</td>\n",
       "      <td>226.398571</td>\n",
       "      <td>1.364204</td>\n",
       "      <td>0.680198</td>\n",
       "      <td>55858</td>\n",
       "      <td>263.850182</td>\n",
       "      <td>0.753013</td>\n",
       "      <td>0.978857</td>\n",
       "      <td>0.827860</td>\n",
       "      <td>0.854288</td>\n",
       "      <td>0.005649</td>\n",
       "      <td>0.001856</td>\n",
       "      <td>0.729808</td>\n",
       "      <td>0.995607</td>\n",
       "      <td>0.0</td>\n",
       "      <td>0.0</td>\n",
       "      <td>0.0</td>\n",
       "    </tr>\n",
       "    <tr>\n",
       "      <th>10837</th>\n",
       "      <td>10837</td>\n",
       "      <td>24827</td>\n",
       "      <td>578.304</td>\n",
       "      <td>214.192699</td>\n",
       "      <td>147.788172</td>\n",
       "      <td>1.449322</td>\n",
       "      <td>0.723831</td>\n",
       "      <td>25121</td>\n",
       "      <td>177.794033</td>\n",
       "      <td>0.716508</td>\n",
       "      <td>0.988297</td>\n",
       "      <td>0.932871</td>\n",
       "      <td>0.830066</td>\n",
       "      <td>0.008627</td>\n",
       "      <td>0.002526</td>\n",
       "      <td>0.689009</td>\n",
       "      <td>0.998596</td>\n",
       "      <td>0.0</td>\n",
       "      <td>0.0</td>\n",
       "      <td>0.0</td>\n",
       "    </tr>\n",
       "    <tr>\n",
       "      <th>10838</th>\n",
       "      <td>10838</td>\n",
       "      <td>141850</td>\n",
       "      <td>1432.847</td>\n",
       "      <td>524.923471</td>\n",
       "      <td>346.910920</td>\n",
       "      <td>1.513136</td>\n",
       "      <td>0.750492</td>\n",
       "      <td>143680</td>\n",
       "      <td>424.981211</td>\n",
       "      <td>0.804617</td>\n",
       "      <td>0.987263</td>\n",
       "      <td>0.868240</td>\n",
       "      <td>0.809606</td>\n",
       "      <td>0.003701</td>\n",
       "      <td>0.000981</td>\n",
       "      <td>0.655462</td>\n",
       "      <td>0.991803</td>\n",
       "      <td>1.0</td>\n",
       "      <td>0.0</td>\n",
       "      <td>0.0</td>\n",
       "    </tr>\n",
       "    <tr>\n",
       "      <th>...</th>\n",
       "      <td>...</td>\n",
       "      <td>...</td>\n",
       "      <td>...</td>\n",
       "      <td>...</td>\n",
       "      <td>...</td>\n",
       "      <td>...</td>\n",
       "      <td>...</td>\n",
       "      <td>...</td>\n",
       "      <td>...</td>\n",
       "      <td>...</td>\n",
       "      <td>...</td>\n",
       "      <td>...</td>\n",
       "      <td>...</td>\n",
       "      <td>...</td>\n",
       "      <td>...</td>\n",
       "      <td>...</td>\n",
       "      <td>...</td>\n",
       "      <td>...</td>\n",
       "      <td>...</td>\n",
       "      <td>...</td>\n",
       "    </tr>\n",
       "    <tr>\n",
       "      <th>13538</th>\n",
       "      <td>13538</td>\n",
       "      <td>66833</td>\n",
       "      <td>1018.336</td>\n",
       "      <td>400.397077</td>\n",
       "      <td>214.346215</td>\n",
       "      <td>1.867992</td>\n",
       "      <td>0.844640</td>\n",
       "      <td>67787</td>\n",
       "      <td>291.709476</td>\n",
       "      <td>0.759604</td>\n",
       "      <td>0.985927</td>\n",
       "      <td>0.809876</td>\n",
       "      <td>0.728550</td>\n",
       "      <td>0.005991</td>\n",
       "      <td>0.001041</td>\n",
       "      <td>0.530786</td>\n",
       "      <td>0.991504</td>\n",
       "      <td>0.0</td>\n",
       "      <td>0.0</td>\n",
       "      <td>0.0</td>\n",
       "    </tr>\n",
       "    <tr>\n",
       "      <th>13539</th>\n",
       "      <td>13539</td>\n",
       "      <td>40572</td>\n",
       "      <td>725.331</td>\n",
       "      <td>250.714014</td>\n",
       "      <td>206.471935</td>\n",
       "      <td>1.214276</td>\n",
       "      <td>0.567264</td>\n",
       "      <td>40900</td>\n",
       "      <td>227.283688</td>\n",
       "      <td>0.767479</td>\n",
       "      <td>0.991980</td>\n",
       "      <td>0.969089</td>\n",
       "      <td>0.906546</td>\n",
       "      <td>0.006179</td>\n",
       "      <td>0.002574</td>\n",
       "      <td>0.821825</td>\n",
       "      <td>0.997923</td>\n",
       "      <td>0.0</td>\n",
       "      <td>0.0</td>\n",
       "      <td>1.0</td>\n",
       "    </tr>\n",
       "    <tr>\n",
       "      <th>13540</th>\n",
       "      <td>13540</td>\n",
       "      <td>61226</td>\n",
       "      <td>1008.378</td>\n",
       "      <td>408.227467</td>\n",
       "      <td>199.385082</td>\n",
       "      <td>2.047432</td>\n",
       "      <td>0.872611</td>\n",
       "      <td>63901</td>\n",
       "      <td>279.204879</td>\n",
       "      <td>0.611648</td>\n",
       "      <td>0.958138</td>\n",
       "      <td>0.756657</td>\n",
       "      <td>0.683944</td>\n",
       "      <td>0.006668</td>\n",
       "      <td>0.000900</td>\n",
       "      <td>0.467780</td>\n",
       "      <td>0.957748</td>\n",
       "      <td>0.0</td>\n",
       "      <td>1.0</td>\n",
       "      <td>0.0</td>\n",
       "    </tr>\n",
       "    <tr>\n",
       "      <th>13541</th>\n",
       "      <td>13541</td>\n",
       "      <td>34238</td>\n",
       "      <td>698.847</td>\n",
       "      <td>255.829224</td>\n",
       "      <td>170.867099</td>\n",
       "      <td>1.497241</td>\n",
       "      <td>0.744255</td>\n",
       "      <td>34724</td>\n",
       "      <td>208.789788</td>\n",
       "      <td>0.724890</td>\n",
       "      <td>0.986004</td>\n",
       "      <td>0.880956</td>\n",
       "      <td>0.816130</td>\n",
       "      <td>0.007472</td>\n",
       "      <td>0.002045</td>\n",
       "      <td>0.666067</td>\n",
       "      <td>0.997263</td>\n",
       "      <td>0.0</td>\n",
       "      <td>0.0</td>\n",
       "      <td>0.0</td>\n",
       "    </tr>\n",
       "    <tr>\n",
       "      <th>13542</th>\n",
       "      <td>13542</td>\n",
       "      <td>49175</td>\n",
       "      <td>828.597</td>\n",
       "      <td>310.354804</td>\n",
       "      <td>202.329323</td>\n",
       "      <td>1.533909</td>\n",
       "      <td>0.758280</td>\n",
       "      <td>49668</td>\n",
       "      <td>250.223010</td>\n",
       "      <td>0.798166</td>\n",
       "      <td>0.990074</td>\n",
       "      <td>0.900052</td>\n",
       "      <td>0.806248</td>\n",
       "      <td>0.006311</td>\n",
       "      <td>0.001645</td>\n",
       "      <td>0.650036</td>\n",
       "      <td>0.997096</td>\n",
       "      <td>0.0</td>\n",
       "      <td>0.0</td>\n",
       "      <td>0.0</td>\n",
       "    </tr>\n",
       "  </tbody>\n",
       "</table>\n",
       "<p>2709 rows × 20 columns</p>\n",
       "</div>"
      ],
      "text/plain": [
       "          ID    Area  Perimeter  MajorAxisLength  MinorAxisLength  \\\n",
       "10834  10834   57659    955.434       387.757607       196.625782   \n",
       "10835  10835   28772    630.362       229.990785       159.609367   \n",
       "10836  10836   54677    911.022       308.853903       226.398571   \n",
       "10837  10837   24827    578.304       214.192699       147.788172   \n",
       "10838  10838  141850   1432.847       524.923471       346.910920   \n",
       "...      ...     ...        ...              ...              ...   \n",
       "13538  13538   66833   1018.336       400.397077       214.346215   \n",
       "13539  13539   40572    725.331       250.714014       206.471935   \n",
       "13540  13540   61226   1008.378       408.227467       199.385082   \n",
       "13541  13541   34238    698.847       255.829224       170.867099   \n",
       "13542  13542   49175    828.597       310.354804       202.329323   \n",
       "\n",
       "       AspectRation  Eccentricity  ConvexArea  EquivDiameter    Extent  \\\n",
       "10834      1.972059      0.861896       60188     270.949661  0.620790   \n",
       "10835      1.440960      0.719993       29127     191.399185  0.767458   \n",
       "10836      1.364204      0.680198       55858     263.850182  0.753013   \n",
       "10837      1.449322      0.723831       25121     177.794033  0.716508   \n",
       "10838      1.513136      0.750492      143680     424.981211  0.804617   \n",
       "...             ...           ...         ...            ...       ...   \n",
       "13538      1.867992      0.844640       67787     291.709476  0.759604   \n",
       "13539      1.214276      0.567264       40900     227.283688  0.767479   \n",
       "13540      2.047432      0.872611       63901     279.204879  0.611648   \n",
       "13541      1.497241      0.744255       34724     208.789788  0.724890   \n",
       "13542      1.533909      0.758280       49668     250.223010  0.798166   \n",
       "\n",
       "       Solidity  roundness  Compactness  ShapeFactor1  ShapeFactor2  \\\n",
       "10834  0.957982   0.793735     0.698760      0.006725      0.000989   \n",
       "10835  0.987812   0.909913     0.832204      0.007994      0.002365   \n",
       "10836  0.978857   0.827860     0.854288      0.005649      0.001856   \n",
       "10837  0.988297   0.932871     0.830066      0.008627      0.002526   \n",
       "10838  0.987263   0.868240     0.809606      0.003701      0.000981   \n",
       "...         ...        ...          ...           ...           ...   \n",
       "13538  0.985927   0.809876     0.728550      0.005991      0.001041   \n",
       "13539  0.991980   0.969089     0.906546      0.006179      0.002574   \n",
       "13540  0.958138   0.756657     0.683944      0.006668      0.000900   \n",
       "13541  0.986004   0.880956     0.816130      0.007472      0.002045   \n",
       "13542  0.990074   0.900052     0.806248      0.006311      0.001645   \n",
       "\n",
       "       ShapeFactor3  ShapeFactor4  Flag_outliers_1  Flag_outliers_4  \\\n",
       "10834      0.488266      0.962889              0.0              0.0   \n",
       "10835      0.692563      0.997956              0.0              0.0   \n",
       "10836      0.729808      0.995607              0.0              0.0   \n",
       "10837      0.689009      0.998596              0.0              0.0   \n",
       "10838      0.655462      0.991803              1.0              0.0   \n",
       "...             ...           ...              ...              ...   \n",
       "13538      0.530786      0.991504              0.0              0.0   \n",
       "13539      0.821825      0.997923              0.0              0.0   \n",
       "13540      0.467780      0.957748              0.0              1.0   \n",
       "13541      0.666067      0.997263              0.0              0.0   \n",
       "13542      0.650036      0.997096              0.0              0.0   \n",
       "\n",
       "       Flag_outliers_5  \n",
       "10834              0.0  \n",
       "10835              0.0  \n",
       "10836              0.0  \n",
       "10837              0.0  \n",
       "10838              0.0  \n",
       "...                ...  \n",
       "13538              0.0  \n",
       "13539              1.0  \n",
       "13540              0.0  \n",
       "13541              0.0  \n",
       "13542              0.0  \n",
       "\n",
       "[2709 rows x 20 columns]"
      ]
     },
     "execution_count": 48,
     "metadata": {},
     "output_type": "execute_result"
    }
   ],
   "source": [
    "df_new_test = test_df\n",
    "df_new_test = df_new_test.merge(flags_df_test, right_index = True, left_index = True, how = 'inner')\n",
    "\n",
    "test_df = df_new_test\n",
    "test_df"
   ]
  },
  {
   "cell_type": "code",
   "execution_count": 49,
   "id": "204f5d92",
   "metadata": {
    "execution": {
     "iopub.execute_input": "2022-05-30T19:05:35.836669Z",
     "iopub.status.busy": "2022-05-30T19:05:35.836272Z",
     "iopub.status.idle": "2022-05-30T19:05:35.844717Z",
     "shell.execute_reply": "2022-05-30T19:05:35.843740Z"
    },
    "papermill": {
     "duration": 0.043005,
     "end_time": "2022-05-30T19:05:35.846932",
     "exception": false,
     "start_time": "2022-05-30T19:05:35.803927",
     "status": "completed"
    },
    "tags": []
   },
   "outputs": [
    {
     "data": {
      "text/plain": [
       "0.0    2603\n",
       "1.0     106\n",
       "Name: Flag_outliers_1, dtype: int64"
      ]
     },
     "execution_count": 49,
     "metadata": {},
     "output_type": "execute_result"
    }
   ],
   "source": [
    "test_df['Flag_outliers_1'].value_counts()"
   ]
  },
  {
   "cell_type": "code",
   "execution_count": 50,
   "id": "76174f73",
   "metadata": {
    "execution": {
     "iopub.execute_input": "2022-05-30T19:05:35.913302Z",
     "iopub.status.busy": "2022-05-30T19:05:35.912908Z",
     "iopub.status.idle": "2022-05-30T19:05:35.920843Z",
     "shell.execute_reply": "2022-05-30T19:05:35.919967Z"
    },
    "papermill": {
     "duration": 0.043461,
     "end_time": "2022-05-30T19:05:35.922834",
     "exception": false,
     "start_time": "2022-05-30T19:05:35.879373",
     "status": "completed"
    },
    "tags": []
   },
   "outputs": [
    {
     "data": {
      "text/plain": [
       "0.0    2571\n",
       "1.0     138\n",
       "Name: Flag_outliers_4, dtype: int64"
      ]
     },
     "execution_count": 50,
     "metadata": {},
     "output_type": "execute_result"
    }
   ],
   "source": [
    "flags_df_test['Flag_outliers_4'].value_counts()"
   ]
  },
  {
   "cell_type": "code",
   "execution_count": 51,
   "id": "bdb7cb7f",
   "metadata": {
    "execution": {
     "iopub.execute_input": "2022-05-30T19:05:35.988634Z",
     "iopub.status.busy": "2022-05-30T19:05:35.988152Z",
     "iopub.status.idle": "2022-05-30T19:05:35.997101Z",
     "shell.execute_reply": "2022-05-30T19:05:35.995977Z"
    },
    "papermill": {
     "duration": 0.045104,
     "end_time": "2022-05-30T19:05:35.999177",
     "exception": false,
     "start_time": "2022-05-30T19:05:35.954073",
     "status": "completed"
    },
    "scrolled": true,
    "tags": []
   },
   "outputs": [
    {
     "data": {
      "text/plain": [
       "0.0    2515\n",
       "1.0     194\n",
       "Name: Flag_outliers_5, dtype: int64"
      ]
     },
     "execution_count": 51,
     "metadata": {},
     "output_type": "execute_result"
    }
   ],
   "source": [
    "flags_df_test['Flag_outliers_5'].value_counts()"
   ]
  },
  {
   "cell_type": "markdown",
   "id": "6d924bea",
   "metadata": {
    "papermill": {
     "duration": 0.032368,
     "end_time": "2022-05-30T19:05:36.064418",
     "exception": false,
     "start_time": "2022-05-30T19:05:36.032050",
     "status": "completed"
    },
    "tags": []
   },
   "source": [
    "### `7.2` Prepare For Submission"
   ]
  },
  {
   "cell_type": "code",
   "execution_count": 52,
   "id": "83a4fa35",
   "metadata": {
    "execution": {
     "iopub.execute_input": "2022-05-30T19:05:36.129502Z",
     "iopub.status.busy": "2022-05-30T19:05:36.129099Z",
     "iopub.status.idle": "2022-05-30T19:05:36.143640Z",
     "shell.execute_reply": "2022-05-30T19:05:36.142577Z"
    },
    "papermill": {
     "duration": 0.049643,
     "end_time": "2022-05-30T19:05:36.145600",
     "exception": false,
     "start_time": "2022-05-30T19:05:36.095957",
     "status": "completed"
    },
    "tags": []
   },
   "outputs": [
    {
     "data": {
      "text/html": [
       "<div>\n",
       "<style scoped>\n",
       "    .dataframe tbody tr th:only-of-type {\n",
       "        vertical-align: middle;\n",
       "    }\n",
       "\n",
       "    .dataframe tbody tr th {\n",
       "        vertical-align: top;\n",
       "    }\n",
       "\n",
       "    .dataframe thead th {\n",
       "        text-align: right;\n",
       "    }\n",
       "</style>\n",
       "<table border=\"1\" class=\"dataframe\">\n",
       "  <thead>\n",
       "    <tr style=\"text-align: right;\">\n",
       "      <th></th>\n",
       "      <th>ID</th>\n",
       "    </tr>\n",
       "  </thead>\n",
       "  <tbody>\n",
       "    <tr>\n",
       "      <th>10834</th>\n",
       "      <td>10834</td>\n",
       "    </tr>\n",
       "    <tr>\n",
       "      <th>10835</th>\n",
       "      <td>10835</td>\n",
       "    </tr>\n",
       "    <tr>\n",
       "      <th>10836</th>\n",
       "      <td>10836</td>\n",
       "    </tr>\n",
       "    <tr>\n",
       "      <th>10837</th>\n",
       "      <td>10837</td>\n",
       "    </tr>\n",
       "    <tr>\n",
       "      <th>10838</th>\n",
       "      <td>10838</td>\n",
       "    </tr>\n",
       "    <tr>\n",
       "      <th>...</th>\n",
       "      <td>...</td>\n",
       "    </tr>\n",
       "    <tr>\n",
       "      <th>13538</th>\n",
       "      <td>13538</td>\n",
       "    </tr>\n",
       "    <tr>\n",
       "      <th>13539</th>\n",
       "      <td>13539</td>\n",
       "    </tr>\n",
       "    <tr>\n",
       "      <th>13540</th>\n",
       "      <td>13540</td>\n",
       "    </tr>\n",
       "    <tr>\n",
       "      <th>13541</th>\n",
       "      <td>13541</td>\n",
       "    </tr>\n",
       "    <tr>\n",
       "      <th>13542</th>\n",
       "      <td>13542</td>\n",
       "    </tr>\n",
       "  </tbody>\n",
       "</table>\n",
       "<p>2709 rows × 1 columns</p>\n",
       "</div>"
      ],
      "text/plain": [
       "          ID\n",
       "10834  10834\n",
       "10835  10835\n",
       "10836  10836\n",
       "10837  10837\n",
       "10838  10838\n",
       "...      ...\n",
       "13538  13538\n",
       "13539  13539\n",
       "13540  13540\n",
       "13541  13541\n",
       "13542  13542\n",
       "\n",
       "[2709 rows x 1 columns]"
      ]
     },
     "execution_count": 52,
     "metadata": {},
     "output_type": "execute_result"
    }
   ],
   "source": [
    "df_submission = pd.DataFrame()\n",
    "df_submission[\"ID\"] = test_df[\"ID\"]\n",
    "df_submission"
   ]
  },
  {
   "cell_type": "code",
   "execution_count": 53,
   "id": "ff96bc73",
   "metadata": {
    "execution": {
     "iopub.execute_input": "2022-05-30T19:05:36.213607Z",
     "iopub.status.busy": "2022-05-30T19:05:36.212665Z",
     "iopub.status.idle": "2022-05-30T19:05:36.243254Z",
     "shell.execute_reply": "2022-05-30T19:05:36.242174Z"
    },
    "papermill": {
     "duration": 0.067323,
     "end_time": "2022-05-30T19:05:36.245372",
     "exception": false,
     "start_time": "2022-05-30T19:05:36.178049",
     "status": "completed"
    },
    "tags": []
   },
   "outputs": [
    {
     "data": {
      "text/html": [
       "<div>\n",
       "<style scoped>\n",
       "    .dataframe tbody tr th:only-of-type {\n",
       "        vertical-align: middle;\n",
       "    }\n",
       "\n",
       "    .dataframe tbody tr th {\n",
       "        vertical-align: top;\n",
       "    }\n",
       "\n",
       "    .dataframe thead th {\n",
       "        text-align: right;\n",
       "    }\n",
       "</style>\n",
       "<table border=\"1\" class=\"dataframe\">\n",
       "  <thead>\n",
       "    <tr style=\"text-align: right;\">\n",
       "      <th></th>\n",
       "      <th>ID</th>\n",
       "      <th>y</th>\n",
       "    </tr>\n",
       "  </thead>\n",
       "  <tbody>\n",
       "    <tr>\n",
       "      <th>10834</th>\n",
       "      <td>10834</td>\n",
       "      <td>HOROZ</td>\n",
       "    </tr>\n",
       "    <tr>\n",
       "      <th>10835</th>\n",
       "      <td>10835</td>\n",
       "      <td>DERMASON</td>\n",
       "    </tr>\n",
       "    <tr>\n",
       "      <th>10836</th>\n",
       "      <td>10836</td>\n",
       "      <td>BARBUNYA</td>\n",
       "    </tr>\n",
       "    <tr>\n",
       "      <th>10837</th>\n",
       "      <td>10837</td>\n",
       "      <td>DERMASON</td>\n",
       "    </tr>\n",
       "    <tr>\n",
       "      <th>10838</th>\n",
       "      <td>10838</td>\n",
       "      <td>BOMBAY</td>\n",
       "    </tr>\n",
       "    <tr>\n",
       "      <th>...</th>\n",
       "      <td>...</td>\n",
       "      <td>...</td>\n",
       "    </tr>\n",
       "    <tr>\n",
       "      <th>13538</th>\n",
       "      <td>13538</td>\n",
       "      <td>CALI</td>\n",
       "    </tr>\n",
       "    <tr>\n",
       "      <th>13539</th>\n",
       "      <td>13539</td>\n",
       "      <td>SEKER</td>\n",
       "    </tr>\n",
       "    <tr>\n",
       "      <th>13540</th>\n",
       "      <td>13540</td>\n",
       "      <td>HOROZ</td>\n",
       "    </tr>\n",
       "    <tr>\n",
       "      <th>13541</th>\n",
       "      <td>13541</td>\n",
       "      <td>DERMASON</td>\n",
       "    </tr>\n",
       "    <tr>\n",
       "      <th>13542</th>\n",
       "      <td>13542</td>\n",
       "      <td>SIRA</td>\n",
       "    </tr>\n",
       "  </tbody>\n",
       "</table>\n",
       "<p>2709 rows × 2 columns</p>\n",
       "</div>"
      ],
      "text/plain": [
       "          ID         y\n",
       "10834  10834     HOROZ\n",
       "10835  10835  DERMASON\n",
       "10836  10836  BARBUNYA\n",
       "10837  10837  DERMASON\n",
       "10838  10838    BOMBAY\n",
       "...      ...       ...\n",
       "13538  13538      CALI\n",
       "13539  13539     SEKER\n",
       "13540  13540     HOROZ\n",
       "13541  13541  DERMASON\n",
       "13542  13542      SIRA\n",
       "\n",
       "[2709 rows x 2 columns]"
      ]
     },
     "execution_count": 53,
     "metadata": {},
     "output_type": "execute_result"
    }
   ],
   "source": [
    "test_df = test_df.drop(columns = ['ID'])\n",
    "test_df = pd.DataFrame(test_df)\n",
    "y_pred_submission = cat.predict(test_df)\n",
    "\n",
    "df_submission[\"y\"]= y_pred_submission\n",
    "df_submission[\"y\"] = df_submission[\"y\"].map({0: 'BARBUNYA', 1: 'BOMBAY', 2: 'CALI', 3: 'DERMASON', 4: 'HOROZ', 5: 'SEKER', 6: 'SIRA'})\n",
    "\n",
    "df_submission"
   ]
  },
  {
   "cell_type": "code",
   "execution_count": 54,
   "id": "12cee2ca",
   "metadata": {
    "execution": {
     "iopub.execute_input": "2022-05-30T19:05:36.312377Z",
     "iopub.status.busy": "2022-05-30T19:05:36.311315Z",
     "iopub.status.idle": "2022-05-30T19:05:36.326089Z",
     "shell.execute_reply": "2022-05-30T19:05:36.324996Z"
    },
    "papermill": {
     "duration": 0.050676,
     "end_time": "2022-05-30T19:05:36.328564",
     "exception": false,
     "start_time": "2022-05-30T19:05:36.277888",
     "status": "completed"
    },
    "tags": []
   },
   "outputs": [],
   "source": [
    "df_submission[['ID', 'y']].to_csv('submission.csv', index=False)"
   ]
  }
 ],
 "metadata": {
  "kernelspec": {
   "display_name": "Python 3",
   "language": "python",
   "name": "python3"
  },
  "language_info": {
   "codemirror_mode": {
    "name": "ipython",
    "version": 3
   },
   "file_extension": ".py",
   "mimetype": "text/x-python",
   "name": "python",
   "nbconvert_exporter": "python",
   "pygments_lexer": "ipython3",
   "version": "3.7.12"
  },
  "papermill": {
   "default_parameters": {},
   "duration": 35.078453,
   "end_time": "2022-05-30T19:05:37.183457",
   "environment_variables": {},
   "exception": null,
   "input_path": "__notebook__.ipynb",
   "output_path": "__notebook__.ipynb",
   "parameters": {},
   "start_time": "2022-05-30T19:05:02.105004",
   "version": "2.3.4"
  }
 },
 "nbformat": 4,
 "nbformat_minor": 5
}
